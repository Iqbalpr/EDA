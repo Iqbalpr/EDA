{
  "nbformat": 4,
  "nbformat_minor": 0,
  "metadata": {
    "colab": {
      "name": "EDA.ipynb",
      "provenance": [],
      "collapsed_sections": [
        "ZCHldzYfoFxM",
        "WhB9w2owwdNb",
        "giUzpX_w3GLo"
      ]
    },
    "kernelspec": {
      "name": "python3",
      "display_name": "Python 3"
    },
    "language_info": {
      "name": "python"
    }
  },
  "cells": [
    {
      "cell_type": "markdown",
      "source": [
        "Sumber data : https://www.kaggle.com/datasets/wageraldine/data-harga-rumah-jakarta-selatan-csv?resource=download"
      ],
      "metadata": {
        "id": "dJKWc2JZn6sk"
      }
    },
    {
      "cell_type": "markdown",
      "source": [
        "# **Import Data**"
      ],
      "metadata": {
        "id": "ZCHldzYfoFxM"
      }
    },
    {
      "cell_type": "code",
      "execution_count": 45,
      "metadata": {
        "colab": {
          "base_uri": "https://localhost:8080/",
          "height": 333
        },
        "id": "OR_XhOczm91N",
        "outputId": "5c0280b7-0dda-44c8-e7e3-3f489fdf03ae"
      },
      "outputs": [
        {
          "output_type": "execute_result",
          "data": {
            "text/plain": [
              "               HARGA    LT   LB  JKT  JKM        GRS\n",
              "1     28.000.000.000  1100  700    5    6        ADA\n",
              "2     19.000.000.000   824  800    4    4        ADA\n",
              "3      4.700.000.000   500  400    4    3        ADA\n",
              "4      4.900.000.000   251  300    5    4        ADA\n",
              "5     28.000.000.000  1340  575    4    5        ADA\n",
              "...              ...   ...  ...  ...  ...        ...\n",
              "997   16.000.000.000   488  550    6    5        ADA\n",
              "998    4.500.000.000   209  270    4    4        ADA\n",
              "999   29.000.000.000   692  400    4    3  TIDAK ADA\n",
              "1000   1.700.000.000   102  140    4    3  TIDAK ADA\n",
              "1001   1.250.000.000    63  110    3    3  TIDAK ADA\n",
              "\n",
              "[1001 rows x 6 columns]"
            ],
            "text/html": [
              "\n",
              "  <div id=\"df-a4898b9f-d645-497d-910f-c6f696008508\">\n",
              "    <div class=\"colab-df-container\">\n",
              "      <div>\n",
              "<style scoped>\n",
              "    .dataframe tbody tr th:only-of-type {\n",
              "        vertical-align: middle;\n",
              "    }\n",
              "\n",
              "    .dataframe tbody tr th {\n",
              "        vertical-align: top;\n",
              "    }\n",
              "\n",
              "    .dataframe thead th {\n",
              "        text-align: right;\n",
              "    }\n",
              "</style>\n",
              "<table border=\"1\" class=\"dataframe\">\n",
              "  <thead>\n",
              "    <tr style=\"text-align: right;\">\n",
              "      <th></th>\n",
              "      <th>HARGA</th>\n",
              "      <th>LT</th>\n",
              "      <th>LB</th>\n",
              "      <th>JKT</th>\n",
              "      <th>JKM</th>\n",
              "      <th>GRS</th>\n",
              "    </tr>\n",
              "  </thead>\n",
              "  <tbody>\n",
              "    <tr>\n",
              "      <th>1</th>\n",
              "      <td>28.000.000.000</td>\n",
              "      <td>1100</td>\n",
              "      <td>700</td>\n",
              "      <td>5</td>\n",
              "      <td>6</td>\n",
              "      <td>ADA</td>\n",
              "    </tr>\n",
              "    <tr>\n",
              "      <th>2</th>\n",
              "      <td>19.000.000.000</td>\n",
              "      <td>824</td>\n",
              "      <td>800</td>\n",
              "      <td>4</td>\n",
              "      <td>4</td>\n",
              "      <td>ADA</td>\n",
              "    </tr>\n",
              "    <tr>\n",
              "      <th>3</th>\n",
              "      <td>4.700.000.000</td>\n",
              "      <td>500</td>\n",
              "      <td>400</td>\n",
              "      <td>4</td>\n",
              "      <td>3</td>\n",
              "      <td>ADA</td>\n",
              "    </tr>\n",
              "    <tr>\n",
              "      <th>4</th>\n",
              "      <td>4.900.000.000</td>\n",
              "      <td>251</td>\n",
              "      <td>300</td>\n",
              "      <td>5</td>\n",
              "      <td>4</td>\n",
              "      <td>ADA</td>\n",
              "    </tr>\n",
              "    <tr>\n",
              "      <th>5</th>\n",
              "      <td>28.000.000.000</td>\n",
              "      <td>1340</td>\n",
              "      <td>575</td>\n",
              "      <td>4</td>\n",
              "      <td>5</td>\n",
              "      <td>ADA</td>\n",
              "    </tr>\n",
              "    <tr>\n",
              "      <th>...</th>\n",
              "      <td>...</td>\n",
              "      <td>...</td>\n",
              "      <td>...</td>\n",
              "      <td>...</td>\n",
              "      <td>...</td>\n",
              "      <td>...</td>\n",
              "    </tr>\n",
              "    <tr>\n",
              "      <th>997</th>\n",
              "      <td>16.000.000.000</td>\n",
              "      <td>488</td>\n",
              "      <td>550</td>\n",
              "      <td>6</td>\n",
              "      <td>5</td>\n",
              "      <td>ADA</td>\n",
              "    </tr>\n",
              "    <tr>\n",
              "      <th>998</th>\n",
              "      <td>4.500.000.000</td>\n",
              "      <td>209</td>\n",
              "      <td>270</td>\n",
              "      <td>4</td>\n",
              "      <td>4</td>\n",
              "      <td>ADA</td>\n",
              "    </tr>\n",
              "    <tr>\n",
              "      <th>999</th>\n",
              "      <td>29.000.000.000</td>\n",
              "      <td>692</td>\n",
              "      <td>400</td>\n",
              "      <td>4</td>\n",
              "      <td>3</td>\n",
              "      <td>TIDAK ADA</td>\n",
              "    </tr>\n",
              "    <tr>\n",
              "      <th>1000</th>\n",
              "      <td>1.700.000.000</td>\n",
              "      <td>102</td>\n",
              "      <td>140</td>\n",
              "      <td>4</td>\n",
              "      <td>3</td>\n",
              "      <td>TIDAK ADA</td>\n",
              "    </tr>\n",
              "    <tr>\n",
              "      <th>1001</th>\n",
              "      <td>1.250.000.000</td>\n",
              "      <td>63</td>\n",
              "      <td>110</td>\n",
              "      <td>3</td>\n",
              "      <td>3</td>\n",
              "      <td>TIDAK ADA</td>\n",
              "    </tr>\n",
              "  </tbody>\n",
              "</table>\n",
              "<p>1001 rows × 6 columns</p>\n",
              "</div>\n",
              "      <button class=\"colab-df-convert\" onclick=\"convertToInteractive('df-a4898b9f-d645-497d-910f-c6f696008508')\"\n",
              "              title=\"Convert this dataframe to an interactive table.\"\n",
              "              style=\"display:none;\">\n",
              "        \n",
              "  <svg xmlns=\"http://www.w3.org/2000/svg\" height=\"24px\"viewBox=\"0 0 24 24\"\n",
              "       width=\"24px\">\n",
              "    <path d=\"M0 0h24v24H0V0z\" fill=\"none\"/>\n",
              "    <path d=\"M18.56 5.44l.94 2.06.94-2.06 2.06-.94-2.06-.94-.94-2.06-.94 2.06-2.06.94zm-11 1L8.5 8.5l.94-2.06 2.06-.94-2.06-.94L8.5 2.5l-.94 2.06-2.06.94zm10 10l.94 2.06.94-2.06 2.06-.94-2.06-.94-.94-2.06-.94 2.06-2.06.94z\"/><path d=\"M17.41 7.96l-1.37-1.37c-.4-.4-.92-.59-1.43-.59-.52 0-1.04.2-1.43.59L10.3 9.45l-7.72 7.72c-.78.78-.78 2.05 0 2.83L4 21.41c.39.39.9.59 1.41.59.51 0 1.02-.2 1.41-.59l7.78-7.78 2.81-2.81c.8-.78.8-2.07 0-2.86zM5.41 20L4 18.59l7.72-7.72 1.47 1.35L5.41 20z\"/>\n",
              "  </svg>\n",
              "      </button>\n",
              "      \n",
              "  <style>\n",
              "    .colab-df-container {\n",
              "      display:flex;\n",
              "      flex-wrap:wrap;\n",
              "      gap: 12px;\n",
              "    }\n",
              "\n",
              "    .colab-df-convert {\n",
              "      background-color: #E8F0FE;\n",
              "      border: none;\n",
              "      border-radius: 50%;\n",
              "      cursor: pointer;\n",
              "      display: none;\n",
              "      fill: #1967D2;\n",
              "      height: 32px;\n",
              "      padding: 0 0 0 0;\n",
              "      width: 32px;\n",
              "    }\n",
              "\n",
              "    .colab-df-convert:hover {\n",
              "      background-color: #E2EBFA;\n",
              "      box-shadow: 0px 1px 2px rgba(60, 64, 67, 0.3), 0px 1px 3px 1px rgba(60, 64, 67, 0.15);\n",
              "      fill: #174EA6;\n",
              "    }\n",
              "\n",
              "    [theme=dark] .colab-df-convert {\n",
              "      background-color: #3B4455;\n",
              "      fill: #D2E3FC;\n",
              "    }\n",
              "\n",
              "    [theme=dark] .colab-df-convert:hover {\n",
              "      background-color: #434B5C;\n",
              "      box-shadow: 0px 1px 3px 1px rgba(0, 0, 0, 0.15);\n",
              "      filter: drop-shadow(0px 1px 2px rgba(0, 0, 0, 0.3));\n",
              "      fill: #FFFFFF;\n",
              "    }\n",
              "  </style>\n",
              "\n",
              "      <script>\n",
              "        const buttonEl =\n",
              "          document.querySelector('#df-a4898b9f-d645-497d-910f-c6f696008508 button.colab-df-convert');\n",
              "        buttonEl.style.display =\n",
              "          google.colab.kernel.accessAllowed ? 'block' : 'none';\n",
              "\n",
              "        async function convertToInteractive(key) {\n",
              "          const element = document.querySelector('#df-a4898b9f-d645-497d-910f-c6f696008508');\n",
              "          const dataTable =\n",
              "            await google.colab.kernel.invokeFunction('convertToInteractive',\n",
              "                                                     [key], {});\n",
              "          if (!dataTable) return;\n",
              "\n",
              "          const docLinkHtml = 'Like what you see? Visit the ' +\n",
              "            '<a target=\"_blank\" href=https://colab.research.google.com/notebooks/data_table.ipynb>data table notebook</a>'\n",
              "            + ' to learn more about interactive tables.';\n",
              "          element.innerHTML = '';\n",
              "          dataTable['output_type'] = 'display_data';\n",
              "          await google.colab.output.renderOutput(dataTable, element);\n",
              "          const docLink = document.createElement('div');\n",
              "          docLink.innerHTML = docLinkHtml;\n",
              "          element.appendChild(docLink);\n",
              "        }\n",
              "      </script>\n",
              "    </div>\n",
              "  </div>\n",
              "  "
            ]
          },
          "metadata": {},
          "execution_count": 45
        }
      ],
      "source": [
        "import pandas as pd\n",
        "\n",
        "url = 'https://raw.githubusercontent.com/Iqbalpr/EDA/main/HARGA%20RUMAH%20JAKSEL.csv'\n",
        "Data = pd.read_csv(url)\n",
        "Data.index = Data.index + 1 # Memulai index dari angka 1\n",
        "Data"
      ]
    },
    {
      "cell_type": "code",
      "source": [
        "# Selanjutnya periksa jumlah kolom dan baris\n",
        "Data.shape"
      ],
      "metadata": {
        "colab": {
          "base_uri": "https://localhost:8080/"
        },
        "id": "yhNHG0wVuskj",
        "outputId": "5b3e6a26-631a-45d1-eff2-ed4379aa5a71"
      },
      "execution_count": null,
      "outputs": [
        {
          "output_type": "execute_result",
          "data": {
            "text/plain": [
              "(1001, 6)"
            ]
          },
          "metadata": {},
          "execution_count": 2
        }
      ]
    },
    {
      "cell_type": "markdown",
      "source": [
        "Dapat dilihat bahwa data memiliki 1001 baris dan 6 kolom."
      ],
      "metadata": {
        "id": "klthW-dDu1xc"
      }
    },
    {
      "cell_type": "markdown",
      "source": [
        "# **Merapihkan Data**"
      ],
      "metadata": {
        "id": "WhB9w2owwdNb"
      }
    },
    {
      "cell_type": "markdown",
      "source": [
        "Langkah selanjutnya menghapus kolom yang tidak diperlukan. Karena pada data ini semua kolom diperlukan, maka tidak ada proses penghapusan kolom"
      ],
      "metadata": {
        "id": "r-dgguYIvQvU"
      }
    },
    {
      "cell_type": "markdown",
      "source": [
        "Selanjutnya kita mengoreksi tipe variabel"
      ],
      "metadata": {
        "id": "_qAwsR3MvelL"
      }
    },
    {
      "cell_type": "code",
      "source": [
        "Data.info()"
      ],
      "metadata": {
        "colab": {
          "base_uri": "https://localhost:8080/"
        },
        "id": "uZcPmeV-u6ya",
        "outputId": "2bc7d5a2-8e1c-4797-fa46-6ac177759ba8"
      },
      "execution_count": null,
      "outputs": [
        {
          "output_type": "stream",
          "name": "stdout",
          "text": [
            "<class 'pandas.core.frame.DataFrame'>\n",
            "RangeIndex: 1001 entries, 1 to 1001\n",
            "Data columns (total 6 columns):\n",
            " #   Column  Non-Null Count  Dtype \n",
            "---  ------  --------------  ----- \n",
            " 0   HARGA   1001 non-null   object\n",
            " 1   LT      1001 non-null   int64 \n",
            " 2   LB      1001 non-null   int64 \n",
            " 3   JKT     1001 non-null   int64 \n",
            " 4   JKM     1001 non-null   int64 \n",
            " 5   GRS     1001 non-null   object\n",
            "dtypes: int64(4), object(2)\n",
            "memory usage: 47.1+ KB\n"
          ]
        }
      ]
    },
    {
      "cell_type": "markdown",
      "source": [
        "Dapat dilihat bahwa kolom \"HARGA\" seharusnya bertipe int/float dan kolom \"GRS\" seharusnya bertipe kategori"
      ],
      "metadata": {
        "id": "hUpecwjtx0NV"
      }
    },
    {
      "cell_type": "code",
      "source": [
        "Data['HARGA'] = Data['HARGA'].str.replace('.','').astype(int)\n",
        "Data['GRS'] = Data['GRS'].astype('category')\n",
        "Data.info()"
      ],
      "metadata": {
        "colab": {
          "base_uri": "https://localhost:8080/"
        },
        "id": "QZZRHovcyb4D",
        "outputId": "5062e2e8-9a4c-41d5-d25d-dcb4886a045e"
      },
      "execution_count": null,
      "outputs": [
        {
          "output_type": "stream",
          "name": "stdout",
          "text": [
            "<class 'pandas.core.frame.DataFrame'>\n",
            "RangeIndex: 1001 entries, 1 to 1001\n",
            "Data columns (total 6 columns):\n",
            " #   Column  Non-Null Count  Dtype   \n",
            "---  ------  --------------  -----   \n",
            " 0   HARGA   1001 non-null   int64   \n",
            " 1   LT      1001 non-null   int64   \n",
            " 2   LB      1001 non-null   int64   \n",
            " 3   JKT     1001 non-null   int64   \n",
            " 4   JKM     1001 non-null   int64   \n",
            " 5   GRS     1001 non-null   category\n",
            "dtypes: category(1), int64(5)\n",
            "memory usage: 40.3 KB\n"
          ]
        },
        {
          "output_type": "stream",
          "name": "stderr",
          "text": [
            "/usr/local/lib/python3.7/dist-packages/ipykernel_launcher.py:1: FutureWarning: The default value of regex will change from True to False in a future version. In addition, single character regular expressions will *not* be treated as literal strings when regex=True.\n",
            "  \"\"\"Entry point for launching an IPython kernel.\n"
          ]
        }
      ]
    },
    {
      "cell_type": "markdown",
      "source": [
        "Dapat dilihat bahwa tipe data telah sesuai, selanjutnya kita lakukan tahap pre-processing"
      ],
      "metadata": {
        "id": "vHQHOfSn2rkg"
      }
    },
    {
      "cell_type": "markdown",
      "source": [
        "# **Pre-processing dan Model Prediksi**"
      ],
      "metadata": {
        "id": "giUzpX_w3GLo"
      }
    },
    {
      "cell_type": "markdown",
      "source": [
        "Selanjutnya kita cek apakah terdapat Missing Values"
      ],
      "metadata": {
        "id": "a_LQnCtx3Tnn"
      }
    },
    {
      "cell_type": "code",
      "source": [
        "Data.isnull().sum()"
      ],
      "metadata": {
        "colab": {
          "base_uri": "https://localhost:8080/"
        },
        "id": "_Ichr4VO2LHg",
        "outputId": "4e91c4f8-7fd6-4462-d8ae-1863ae12c6bb"
      },
      "execution_count": null,
      "outputs": [
        {
          "output_type": "execute_result",
          "data": {
            "text/plain": [
              "HARGA    0\n",
              "LT       0\n",
              "LB       0\n",
              "JKT      0\n",
              "JKM      0\n",
              "GRS      0\n",
              "dtype: int64"
            ]
          },
          "metadata": {},
          "execution_count": 7
        }
      ]
    },
    {
      "cell_type": "markdown",
      "source": [
        "Dapat dilihat bahwa data tidak missing values, selanjutnya mari kita periksa apakah data memiliki duplikat"
      ],
      "metadata": {
        "id": "9PuxyBwf3-kv"
      }
    },
    {
      "cell_type": "code",
      "source": [
        "Data.duplicated().sum()"
      ],
      "metadata": {
        "colab": {
          "base_uri": "https://localhost:8080/"
        },
        "id": "tTA3Rrrh4Im9",
        "outputId": "a1db0268-cb95-4f9f-ef3a-6ed13386aecb"
      },
      "execution_count": null,
      "outputs": [
        {
          "output_type": "execute_result",
          "data": {
            "text/plain": [
              "70"
            ]
          },
          "metadata": {},
          "execution_count": 8
        }
      ]
    },
    {
      "cell_type": "code",
      "source": [
        "Data.shape"
      ],
      "metadata": {
        "colab": {
          "base_uri": "https://localhost:8080/"
        },
        "id": "6DpQuDnv6q8X",
        "outputId": "025f655e-40f2-499d-b676-52b208951e60"
      },
      "execution_count": null,
      "outputs": [
        {
          "output_type": "execute_result",
          "data": {
            "text/plain": [
              "(931, 6)"
            ]
          },
          "metadata": {},
          "execution_count": 20
        }
      ]
    },
    {
      "cell_type": "markdown",
      "source": [
        "Ternyata data memiliki duplikat, maka harus kita hapus"
      ],
      "metadata": {
        "id": "kGiCKV6z4Lun"
      }
    },
    {
      "cell_type": "code",
      "source": [
        "Data.drop_duplicates(inplace=True)\n",
        "Data.duplicated().sum()"
      ],
      "metadata": {
        "colab": {
          "base_uri": "https://localhost:8080/"
        },
        "id": "gTp6MX7K4Xio",
        "outputId": "6920dc58-b914-4cdc-ba62-03fdf8c7785c"
      },
      "execution_count": null,
      "outputs": [
        {
          "output_type": "execute_result",
          "data": {
            "text/plain": [
              "0"
            ]
          },
          "metadata": {},
          "execution_count": 10
        }
      ]
    },
    {
      "cell_type": "markdown",
      "source": [
        "Sekarang data yang berduplikat telah terhapus, selanjutnya kita lakukan proses penghapusan outlier"
      ],
      "metadata": {
        "id": "WruieYOf4o8_"
      }
    },
    {
      "cell_type": "code",
      "source": [
        "import matplotlib.pyplot as plt\n",
        "\n",
        "# Pengecekan outlier terhadap semua kolom numeric\n",
        "def plot_boxplot(df, ft):\n",
        "  df.boxplot(column=[ft])\n",
        "  plt.grid(True)\n",
        "  plt.show()\n",
        "\n",
        "plot_boxplot(Data, input())\n",
        "# Text input dapat copy paste dari nama kolom (bertipe int/float) yang terdapat dalam Data.info()"
      ],
      "metadata": {
        "colab": {
          "base_uri": "https://localhost:8080/",
          "height": 294
        },
        "id": "uOgrwjg05wpP",
        "outputId": "fc31555c-6cd9-407d-f01d-d682adac5342"
      },
      "execution_count": null,
      "outputs": [
        {
          "name": "stdout",
          "output_type": "stream",
          "text": [
            "HARGA\n"
          ]
        },
        {
          "output_type": "display_data",
          "data": {
            "text/plain": [
              "<Figure size 432x288 with 1 Axes>"
            ],
            "image/png": "[encoded data removed]"
          },
          "metadata": {
            "needs_background": "light"
          }
        }
      ]
    },
    {
      "cell_type": "code",
      "source": [
        "Col = ['HARGA', 'LT', 'LB', 'JKT', 'JKM']\n",
        "\n",
        "Q1 = Data[Col].quantile(0.25)\n",
        "Q3 = Data[Col].quantile(0.75)\n",
        "IQR = Q3 - Q1\n",
        "\n",
        "Data2 = Data[~((Data[Col] < (Q1 - 1.5 * IQR)) |(Data[Col] > (Q3 + 1.5 * IQR))).any(axis=1)]\n",
        "Data2.reset_index(drop=True)"
      ],
      "metadata": {
        "colab": {
          "base_uri": "https://localhost:8080/",
          "height": 333
        },
        "id": "eAn7m9eE6N6A",
        "outputId": "bee4b9ee-2ded-4a79-89a8-f9632c70be28"
      },
      "execution_count": null,
      "outputs": [
        {
          "output_type": "execute_result",
          "data": {
            "text/plain": [
              "           HARGA    LT   LB  JKT  JKM        GRS\n",
              "0    19000000000   824  800    4    4        ADA\n",
              "1     4700000000   500  400    4    3        ADA\n",
              "2     4900000000   251  300    5    4        ADA\n",
              "3    28000000000  1340  575    4    5        ADA\n",
              "4    10000000000   460  300    4    4        ADA\n",
              "..           ...   ...  ...  ...  ...        ...\n",
              "743  16000000000   488  550    6    5        ADA\n",
              "744   4500000000   209  270    4    4        ADA\n",
              "745  29000000000   692  400    4    3  TIDAK ADA\n",
              "746   1700000000   102  140    4    3  TIDAK ADA\n",
              "747   1250000000    63  110    3    3  TIDAK ADA\n",
              "\n",
              "[748 rows x 6 columns]"
            ],
            "text/html": [
              "\n",
              "  <div id=\"df-034630a9-c11c-4c33-8b12-9b4ccd7e21ab\">\n",
              "    <div class=\"colab-df-container\">\n",
              "      <div>\n",
              "<style scoped>\n",
              "    .dataframe tbody tr th:only-of-type {\n",
              "        vertical-align: middle;\n",
              "    }\n",
              "\n",
              "    .dataframe tbody tr th {\n",
              "        vertical-align: top;\n",
              "    }\n",
              "\n",
              "    .dataframe thead th {\n",
              "        text-align: right;\n",
              "    }\n",
              "</style>\n",
              "<table border=\"1\" class=\"dataframe\">\n",
              "  <thead>\n",
              "    <tr style=\"text-align: right;\">\n",
              "      <th></th>\n",
              "      <th>HARGA</th>\n",
              "      <th>LT</th>\n",
              "      <th>LB</th>\n",
              "      <th>JKT</th>\n",
              "      <th>JKM</th>\n",
              "      <th>GRS</th>\n",
              "    </tr>\n",
              "  </thead>\n",
              "  <tbody>\n",
              "    <tr>\n",
              "      <th>0</th>\n",
              "      <td>19000000000</td>\n",
              "      <td>824</td>\n",
              "      <td>800</td>\n",
              "      <td>4</td>\n",
              "      <td>4</td>\n",
              "      <td>ADA</td>\n",
              "    </tr>\n",
              "    <tr>\n",
              "      <th>1</th>\n",
              "      <td>4700000000</td>\n",
              "      <td>500</td>\n",
              "      <td>400</td>\n",
              "      <td>4</td>\n",
              "      <td>3</td>\n",
              "      <td>ADA</td>\n",
              "    </tr>\n",
              "    <tr>\n",
              "      <th>2</th>\n",
              "      <td>4900000000</td>\n",
              "      <td>251</td>\n",
              "      <td>300</td>\n",
              "      <td>5</td>\n",
              "      <td>4</td>\n",
              "      <td>ADA</td>\n",
              "    </tr>\n",
              "    <tr>\n",
              "      <th>3</th>\n",
              "      <td>28000000000</td>\n",
              "      <td>1340</td>\n",
              "      <td>575</td>\n",
              "      <td>4</td>\n",
              "      <td>5</td>\n",
              "      <td>ADA</td>\n",
              "    </tr>\n",
              "    <tr>\n",
              "      <th>4</th>\n",
              "      <td>10000000000</td>\n",
              "      <td>460</td>\n",
              "      <td>300</td>\n",
              "      <td>4</td>\n",
              "      <td>4</td>\n",
              "      <td>ADA</td>\n",
              "    </tr>\n",
              "    <tr>\n",
              "      <th>...</th>\n",
              "      <td>...</td>\n",
              "      <td>...</td>\n",
              "      <td>...</td>\n",
              "      <td>...</td>\n",
              "      <td>...</td>\n",
              "      <td>...</td>\n",
              "    </tr>\n",
              "    <tr>\n",
              "      <th>743</th>\n",
              "      <td>16000000000</td>\n",
              "      <td>488</td>\n",
              "      <td>550</td>\n",
              "      <td>6</td>\n",
              "      <td>5</td>\n",
              "      <td>ADA</td>\n",
              "    </tr>\n",
              "    <tr>\n",
              "      <th>744</th>\n",
              "      <td>4500000000</td>\n",
              "      <td>209</td>\n",
              "      <td>270</td>\n",
              "      <td>4</td>\n",
              "      <td>4</td>\n",
              "      <td>ADA</td>\n",
              "    </tr>\n",
              "    <tr>\n",
              "      <th>745</th>\n",
              "      <td>29000000000</td>\n",
              "      <td>692</td>\n",
              "      <td>400</td>\n",
              "      <td>4</td>\n",
              "      <td>3</td>\n",
              "      <td>TIDAK ADA</td>\n",
              "    </tr>\n",
              "    <tr>\n",
              "      <th>746</th>\n",
              "      <td>1700000000</td>\n",
              "      <td>102</td>\n",
              "      <td>140</td>\n",
              "      <td>4</td>\n",
              "      <td>3</td>\n",
              "      <td>TIDAK ADA</td>\n",
              "    </tr>\n",
              "    <tr>\n",
              "      <th>747</th>\n",
              "      <td>1250000000</td>\n",
              "      <td>63</td>\n",
              "      <td>110</td>\n",
              "      <td>3</td>\n",
              "      <td>3</td>\n",
              "      <td>TIDAK ADA</td>\n",
              "    </tr>\n",
              "  </tbody>\n",
              "</table>\n",
              "<p>748 rows × 6 columns</p>\n",
              "</div>\n",
              "      <button class=\"colab-df-convert\" onclick=\"convertToInteractive('df-034630a9-c11c-4c33-8b12-9b4ccd7e21ab')\"\n",
              "              title=\"Convert this dataframe to an interactive table.\"\n",
              "              style=\"display:none;\">\n",
              "        \n",
              "  <svg xmlns=\"http://www.w3.org/2000/svg\" height=\"24px\"viewBox=\"0 0 24 24\"\n",
              "       width=\"24px\">\n",
              "    <path d=\"M0 0h24v24H0V0z\" fill=\"none\"/>\n",
              "    <path d=\"M18.56 5.44l.94 2.06.94-2.06 2.06-.94-2.06-.94-.94-2.06-.94 2.06-2.06.94zm-11 1L8.5 8.5l.94-2.06 2.06-.94-2.06-.94L8.5 2.5l-.94 2.06-2.06.94zm10 10l.94 2.06.94-2.06 2.06-.94-2.06-.94-.94-2.06-.94 2.06-2.06.94z\"/><path d=\"M17.41 7.96l-1.37-1.37c-.4-.4-.92-.59-1.43-.59-.52 0-1.04.2-1.43.59L10.3 9.45l-7.72 7.72c-.78.78-.78 2.05 0 2.83L4 21.41c.39.39.9.59 1.41.59.51 0 1.02-.2 1.41-.59l7.78-7.78 2.81-2.81c.8-.78.8-2.07 0-2.86zM5.41 20L4 18.59l7.72-7.72 1.47 1.35L5.41 20z\"/>\n",
              "  </svg>\n",
              "      </button>\n",
              "      \n",
              "  <style>\n",
              "    .colab-df-container {\n",
              "      display:flex;\n",
              "      flex-wrap:wrap;\n",
              "      gap: 12px;\n",
              "    }\n",
              "\n",
              "    .colab-df-convert {\n",
              "      background-color: #E8F0FE;\n",
              "      border: none;\n",
              "      border-radius: 50%;\n",
              "      cursor: pointer;\n",
              "      display: none;\n",
              "      fill: #1967D2;\n",
              "      height: 32px;\n",
              "      padding: 0 0 0 0;\n",
              "      width: 32px;\n",
              "    }\n",
              "\n",
              "    .colab-df-convert:hover {\n",
              "      background-color: #E2EBFA;\n",
              "      box-shadow: 0px 1px 2px rgba(60, 64, 67, 0.3), 0px 1px 3px 1px rgba(60, 64, 67, 0.15);\n",
              "      fill: #174EA6;\n",
              "    }\n",
              "\n",
              "    [theme=dark] .colab-df-convert {\n",
              "      background-color: #3B4455;\n",
              "      fill: #D2E3FC;\n",
              "    }\n",
              "\n",
              "    [theme=dark] .colab-df-convert:hover {\n",
              "      background-color: #434B5C;\n",
              "      box-shadow: 0px 1px 3px 1px rgba(0, 0, 0, 0.15);\n",
              "      filter: drop-shadow(0px 1px 2px rgba(0, 0, 0, 0.3));\n",
              "      fill: #FFFFFF;\n",
              "    }\n",
              "  </style>\n",
              "\n",
              "      <script>\n",
              "        const buttonEl =\n",
              "          document.querySelector('#df-034630a9-c11c-4c33-8b12-9b4ccd7e21ab button.colab-df-convert');\n",
              "        buttonEl.style.display =\n",
              "          google.colab.kernel.accessAllowed ? 'block' : 'none';\n",
              "\n",
              "        async function convertToInteractive(key) {\n",
              "          const element = document.querySelector('#df-034630a9-c11c-4c33-8b12-9b4ccd7e21ab');\n",
              "          const dataTable =\n",
              "            await google.colab.kernel.invokeFunction('convertToInteractive',\n",
              "                                                     [key], {});\n",
              "          if (!dataTable) return;\n",
              "\n",
              "          const docLinkHtml = 'Like what you see? Visit the ' +\n",
              "            '<a target=\"_blank\" href=https://colab.research.google.com/notebooks/data_table.ipynb>data table notebook</a>'\n",
              "            + ' to learn more about interactive tables.';\n",
              "          element.innerHTML = '';\n",
              "          dataTable['output_type'] = 'display_data';\n",
              "          await google.colab.output.renderOutput(dataTable, element);\n",
              "          const docLink = document.createElement('div');\n",
              "          docLink.innerHTML = docLinkHtml;\n",
              "          element.appendChild(docLink);\n",
              "        }\n",
              "      </script>\n",
              "    </div>\n",
              "  </div>\n",
              "  "
            ]
          },
          "metadata": {},
          "execution_count": 19
        }
      ]
    },
    {
      "cell_type": "code",
      "source": [
        "Data2.shape"
      ],
      "metadata": {
        "colab": {
          "base_uri": "https://localhost:8080/"
        },
        "id": "Tx6SsOya6vcO",
        "outputId": "ab2bc673-0d39-4da2-f6d8-a1ea91eeae3b"
      },
      "execution_count": null,
      "outputs": [
        {
          "output_type": "execute_result",
          "data": {
            "text/plain": [
              "(748, 6)"
            ]
          },
          "metadata": {},
          "execution_count": 21
        }
      ]
    },
    {
      "cell_type": "markdown",
      "source": [
        "Dapat dilihat bahwa outlier dalam data sudah terhapus, selanjutnya kita buat model"
      ],
      "metadata": {
        "id": "8OT6V7Zw6x9I"
      }
    },
    {
      "cell_type": "code",
      "source": [
        "from statsmodels.formula.api import ols\n",
        "Reg1 = ols('HARGA ~ LT + LB + JKT + JKM + C(GRS)', data=Data2).fit() \n",
        "print(Reg1.summary())"
      ],
      "metadata": {
        "colab": {
          "base_uri": "https://localhost:8080/"
        },
        "id": "jYfUDvSc9XFH",
        "outputId": "86e248db-a548-4ee3-e91f-a00552724c63"
      },
      "execution_count": null,
      "outputs": [
        {
          "output_type": "stream",
          "name": "stdout",
          "text": [
            "                            OLS Regression Results                            \n",
            "==============================================================================\n",
            "Dep. Variable:                  HARGA   R-squared:                       0.641\n",
            "Model:                            OLS   Adj. R-squared:                  0.638\n",
            "Method:                 Least Squares   F-statistic:                     264.7\n",
            "Date:                Sat, 30 Apr 2022   Prob (F-statistic):          3.11e-162\n",
            "Time:                        14:54:09   Log-Likelihood:                -17726.\n",
            "No. Observations:                 748   AIC:                         3.546e+04\n",
            "Df Residuals:                     742   BIC:                         3.549e+04\n",
            "Df Model:                           5                                         \n",
            "Covariance Type:            nonrobust                                         \n",
            "=======================================================================================\n",
            "                          coef    std err          t      P>|t|      [0.025      0.975]\n",
            "---------------------------------------------------------------------------------------\n",
            "Intercept            5.189e+08   9.84e+08      0.527      0.598   -1.41e+09    2.45e+09\n",
            "C(GRS)[T.TIDAK ADA] -4.369e+08   4.15e+08     -1.053      0.293   -1.25e+09    3.78e+08\n",
            "LT                    1.38e+07   8.37e+05     16.493      0.000    1.22e+07    1.54e+07\n",
            "LB                   1.591e+07   1.33e+06     11.973      0.000    1.33e+07    1.85e+07\n",
            "JKT                 -5.347e+08   2.69e+08     -1.987      0.047   -1.06e+09   -6.47e+06\n",
            "JKM                  5.589e+08   2.69e+08      2.080      0.038    3.15e+07    1.09e+09\n",
            "==============================================================================\n",
            "Omnibus:                      200.004   Durbin-Watson:                   1.805\n",
            "Prob(Omnibus):                  0.000   Jarque-Bera (JB):              686.543\n",
            "Skew:                           1.249   Prob(JB):                    8.30e-150\n",
            "Kurtosis:                       6.974   Cond. No.                     3.80e+03\n",
            "==============================================================================\n",
            "\n",
            "Warnings:\n",
            "[1] Standard Errors assume that the covariance matrix of the errors is correctly specified.\n",
            "[2] The condition number is large, 3.8e+03. This might indicate that there are\n",
            "strong multicollinearity or other numerical problems.\n"
          ]
        }
      ]
    },
    {
      "cell_type": "markdown",
      "source": [
        "Interpretasi\n",
        "*   **Y = 518900000 + 13800000(LT) + 15910000(LB) - 534700000(JKT) + 558900000(JKM) - 436900000(GRS)**\n",
        "\n",
        "*   **Nilai *R-squared* atau koefisien determinasi adalah 64%**\n",
        "\n",
        "\n",
        "\n",
        "\n"
      ],
      "metadata": {
        "id": "Q_g-Jzw1_Kgm"
      }
    },
    {
      "cell_type": "markdown",
      "source": [
        "**Note** : untuk mendapatkan angka dari bentuk \"5.189e+08\", dapat menggunakan website ini https://calculator.name/scientific-notation-to-decimal/4.369e+08"
      ],
      "metadata": {
        "id": "tAe-wxsrL6K5"
      }
    },
    {
      "cell_type": "markdown",
      "source": [
        "Melihat tabel korelasi"
      ],
      "metadata": {
        "id": "29x_LwysA-y-"
      }
    },
    {
      "cell_type": "code",
      "source": [
        "Data2.corr().style.background_gradient('YlGnBu').set_precision(2)"
      ],
      "metadata": {
        "colab": {
          "base_uri": "https://localhost:8080/",
          "height": 241
        },
        "id": "rBNZ4FJPAOn3",
        "outputId": "29562fff-abe7-4d54-eb67-4692621e1589"
      },
      "execution_count": null,
      "outputs": [
        {
          "output_type": "stream",
          "name": "stderr",
          "text": [
            "/usr/local/lib/python3.7/dist-packages/ipykernel_launcher.py:1: FutureWarning: this method is deprecated in favour of `Styler.format(precision=..)`\n",
            "  \"\"\"Entry point for launching an IPython kernel.\n"
          ]
        },
        {
          "output_type": "execute_result",
          "data": {
            "text/plain": [
              "<pandas.io.formats.style.Styler at 0x7fc057a592d0>"
            ],
            "text/html": [
              "<style type=\"text/css\">\n",
              "#T_397ff_row0_col0, #T_397ff_row1_col1, #T_397ff_row2_col2, #T_397ff_row3_col3, #T_397ff_row4_col4 {\n",
              "  background-color: #081d58;\n",
              "  color: #f1f1f1;\n",
              "}\n",
              "#T_397ff_row0_col1 {\n",
              "  background-color: #1d8ebf;\n",
              "  color: #f1f1f1;\n",
              "}\n",
              "#T_397ff_row0_col2 {\n",
              "  background-color: #46b8c3;\n",
              "  color: #f1f1f1;\n",
              "}\n",
              "#T_397ff_row0_col3, #T_397ff_row1_col4, #T_397ff_row3_col0, #T_397ff_row3_col2, #T_397ff_row4_col1 {\n",
              "  background-color: #ffffd9;\n",
              "  color: #000000;\n",
              "}\n",
              "#T_397ff_row0_col4 {\n",
              "  background-color: #f2fabc;\n",
              "  color: #000000;\n",
              "}\n",
              "#T_397ff_row1_col0 {\n",
              "  background-color: #2397c1;\n",
              "  color: #f1f1f1;\n",
              "}\n",
              "#T_397ff_row1_col2 {\n",
              "  background-color: #76cabc;\n",
              "  color: #000000;\n",
              "}\n",
              "#T_397ff_row1_col3 {\n",
              "  background-color: #f1fabb;\n",
              "  color: #000000;\n",
              "}\n",
              "#T_397ff_row2_col0 {\n",
              "  background-color: #2fa4c2;\n",
              "  color: #f1f1f1;\n",
              "}\n",
              "#T_397ff_row2_col1 {\n",
              "  background-color: #3db2c4;\n",
              "  color: #f1f1f1;\n",
              "}\n",
              "#T_397ff_row2_col3 {\n",
              "  background-color: #eaf7b1;\n",
              "  color: #000000;\n",
              "}\n",
              "#T_397ff_row2_col4 {\n",
              "  background-color: #c0e6b5;\n",
              "  color: #000000;\n",
              "}\n",
              "#T_397ff_row3_col1 {\n",
              "  background-color: #e3f4b2;\n",
              "  color: #000000;\n",
              "}\n",
              "#T_397ff_row3_col4 {\n",
              "  background-color: #90d4b9;\n",
              "  color: #000000;\n",
              "}\n",
              "#T_397ff_row4_col0 {\n",
              "  background-color: #fcfed3;\n",
              "  color: #000000;\n",
              "}\n",
              "#T_397ff_row4_col2 {\n",
              "  background-color: #f3fabf;\n",
              "  color: #000000;\n",
              "}\n",
              "#T_397ff_row4_col3 {\n",
              "  background-color: #aedfb6;\n",
              "  color: #000000;\n",
              "}\n",
              "</style>\n",
              "<table id=\"T_397ff_\" class=\"dataframe\">\n",
              "  <thead>\n",
              "    <tr>\n",
              "      <th class=\"blank level0\" >&nbsp;</th>\n",
              "      <th class=\"col_heading level0 col0\" >HARGA</th>\n",
              "      <th class=\"col_heading level0 col1\" >LT</th>\n",
              "      <th class=\"col_heading level0 col2\" >LB</th>\n",
              "      <th class=\"col_heading level0 col3\" >JKT</th>\n",
              "      <th class=\"col_heading level0 col4\" >JKM</th>\n",
              "    </tr>\n",
              "  </thead>\n",
              "  <tbody>\n",
              "    <tr>\n",
              "      <th id=\"T_397ff_level0_row0\" class=\"row_heading level0 row0\" >HARGA</th>\n",
              "      <td id=\"T_397ff_row0_col0\" class=\"data row0 col0\" >1.00</td>\n",
              "      <td id=\"T_397ff_row0_col1\" class=\"data row0 col1\" >0.74</td>\n",
              "      <td id=\"T_397ff_row0_col2\" class=\"data row0 col2\" >0.71</td>\n",
              "      <td id=\"T_397ff_row0_col3\" class=\"data row0 col3\" >0.35</td>\n",
              "      <td id=\"T_397ff_row0_col4\" class=\"data row0 col4\" >0.36</td>\n",
              "    </tr>\n",
              "    <tr>\n",
              "      <th id=\"T_397ff_level0_row1\" class=\"row_heading level0 row1\" >LT</th>\n",
              "      <td id=\"T_397ff_row1_col0\" class=\"data row1 col0\" >0.74</td>\n",
              "      <td id=\"T_397ff_row1_col1\" class=\"data row1 col1\" >1.00</td>\n",
              "      <td id=\"T_397ff_row1_col2\" class=\"data row1 col2\" >0.66</td>\n",
              "      <td id=\"T_397ff_row1_col3\" class=\"data row1 col3\" >0.41</td>\n",
              "      <td id=\"T_397ff_row1_col4\" class=\"data row1 col4\" >0.30</td>\n",
              "    </tr>\n",
              "    <tr>\n",
              "      <th id=\"T_397ff_level0_row2\" class=\"row_heading level0 row2\" >LB</th>\n",
              "      <td id=\"T_397ff_row2_col0\" class=\"data row2 col0\" >0.71</td>\n",
              "      <td id=\"T_397ff_row2_col1\" class=\"data row2 col1\" >0.66</td>\n",
              "      <td id=\"T_397ff_row2_col2\" class=\"data row2 col2\" >1.00</td>\n",
              "      <td id=\"T_397ff_row2_col3\" class=\"data row2 col3\" >0.43</td>\n",
              "      <td id=\"T_397ff_row2_col4\" class=\"data row2 col4\" >0.48</td>\n",
              "    </tr>\n",
              "    <tr>\n",
              "      <th id=\"T_397ff_level0_row3\" class=\"row_heading level0 row3\" >JKT</th>\n",
              "      <td id=\"T_397ff_row3_col0\" class=\"data row3 col0\" >0.35</td>\n",
              "      <td id=\"T_397ff_row3_col1\" class=\"data row3 col1\" >0.41</td>\n",
              "      <td id=\"T_397ff_row3_col2\" class=\"data row3 col2\" >0.43</td>\n",
              "      <td id=\"T_397ff_row3_col3\" class=\"data row3 col3\" >1.00</td>\n",
              "      <td id=\"T_397ff_row3_col4\" class=\"data row3 col4\" >0.54</td>\n",
              "    </tr>\n",
              "    <tr>\n",
              "      <th id=\"T_397ff_level0_row4\" class=\"row_heading level0 row4\" >JKM</th>\n",
              "      <td id=\"T_397ff_row4_col0\" class=\"data row4 col0\" >0.36</td>\n",
              "      <td id=\"T_397ff_row4_col1\" class=\"data row4 col1\" >0.30</td>\n",
              "      <td id=\"T_397ff_row4_col2\" class=\"data row4 col2\" >0.48</td>\n",
              "      <td id=\"T_397ff_row4_col3\" class=\"data row4 col3\" >0.54</td>\n",
              "      <td id=\"T_397ff_row4_col4\" class=\"data row4 col4\" >1.00</td>\n",
              "    </tr>\n",
              "  </tbody>\n",
              "</table>\n"
            ]
          },
          "metadata": {},
          "execution_count": 32
        }
      ]
    },
    {
      "cell_type": "markdown",
      "source": [
        "Dapat dilihat bahwa variabel yang paling mempengaruhi Harga adalah LT dan LB dibandingkan dengan variabel JKT dan JKM"
      ],
      "metadata": {
        "id": "XHVfuOYPBZzH"
      }
    },
    {
      "cell_type": "code",
      "source": [
        "# Kita coba model yang telah kita dapat\n",
        "# Iqbal ingin membeli rumah dengan luas tanah sebesar 900, luas bangunan 300 jumlah kamar tidur 5, kamar mandi 4 dan ada garasi (1 = ada, 0 = tidak ada)\n",
        "# Prediksi harga rumah idaman iqbal\n",
        "LT = int(input())\n",
        "LB = int(input())\n",
        "JKT = int(input())\n",
        "JKM = int(input())\n",
        "GRS = int(input())\n",
        "\n",
        "Y = 518900000 + 13800000*(LT) + 15910000*(LB) - 534700000*(JKT) + 558900000*(JKM) - 436900000*(GRS)\n",
        "print('-----------------')\n",
        "print(\"Harga rumah idaman iqbal adalah sebesar Rp\", Y)"
      ],
      "metadata": {
        "colab": {
          "base_uri": "https://localhost:8080/"
        },
        "id": "pzHf9511EeVn",
        "outputId": "9bcb9271-84b2-48d0-b356-d4b030331763"
      },
      "execution_count": 47,
      "outputs": [
        {
          "output_type": "stream",
          "name": "stdout",
          "text": [
            "900\n",
            "300\n",
            "5\n",
            "4\n",
            "1\n",
            "-----------------\n",
            "Harga rumah idaman iqbal adalah sebesar Rp 16837100000\n"
          ]
        }
      ]
    },
    {
      "cell_type": "markdown",
      "source": [
        "# **Visualisasi Data**"
      ],
      "metadata": {
        "id": "WERAFkqdMgb-"
      }
    },
    {
      "cell_type": "code",
      "source": [
        "import seaborn as sns\n",
        "import numpy as np\n",
        "from collections import Counter"
      ],
      "metadata": {
        "id": "hdAFxSoVPb2O"
      },
      "execution_count": 70,
      "outputs": []
    },
    {
      "cell_type": "code",
      "source": [
        "# Kita input code untuk melihat values dari plot plot yang nanti digunakan\n",
        "def show_values(axs, orient=\"v\", space=.01):\n",
        "    def _single(ax):\n",
        "        if orient == \"v\":\n",
        "            for p in ax.patches:\n",
        "                _x = p.get_x() + p.get_width() / 2\n",
        "                _y = p.get_y() + p.get_height() + (p.get_height()*0.01)\n",
        "                value = '{:.0f}'.format(p.get_height())\n",
        "                ax.text(_x, _y, value, ha=\"center\") \n",
        "        elif orient == \"h\":\n",
        "            for p in ax.patches:\n",
        "                _x = p.get_x() + p.get_width() + float(space)\n",
        "                _y = p.get_y() + p.get_height() - (p.get_height()*0.5)\n",
        "                value = '{:.0f}'.format(p.get_width())\n",
        "                ax.text(_x, _y, value, ha=\"left\")\n",
        "\n",
        "    if isinstance(axs, np.ndarray):\n",
        "        for idx, ax in np.ndenumerate(axs):\n",
        "            _single(ax)\n",
        "    else:\n",
        "        _single(axs)"
      ],
      "metadata": {
        "id": "gJDdttK0PhJ-"
      },
      "execution_count": 88,
      "outputs": []
    },
    {
      "cell_type": "code",
      "source": [
        "# 1.\n",
        "# Apakah terdapat perbedaan jumlah rumah yang dijual terhadap ada atau tidaknya garasi?\n",
        "data = Data2['GRS']\n",
        "\n",
        "proporsion = Counter(data)\n",
        "values = [int(v) for v in proporsion.values()]\n",
        "colors = ['g', 'b']\n",
        "labels = proporsion.keys()\n",
        "explode = (0.1, 0,)\n",
        "plt.pie(values, colors=colors, labels= values, explode=explode, shadow=True)\n",
        "plt.title('Jumlah Rumah')\n",
        "plt.legend(labels,loc='best')\n",
        "plt.show()"
      ],
      "metadata": {
        "colab": {
          "base_uri": "https://localhost:8080/",
          "height": 264
        },
        "id": "yyji-s07Rw1_",
        "outputId": "541cc5e3-849b-486f-cd8c-dfea13909a91"
      },
      "execution_count": 80,
      "outputs": [
        {
          "output_type": "display_data",
          "data": {
            "text/plain": [
              "<Figure size 432x288 with 1 Axes>"
            ],
            "image/png": "[encoded data removed]"
          },
          "metadata": {}
        }
      ]
    },
    {
      "cell_type": "markdown",
      "source": [
        "Dapat dilihat bahwa didaerah jakarta selatan, lebih banyak rumah yang dijual dengan memiliki garasi"
      ],
      "metadata": {
        "id": "YD1o9wOuS7O3"
      }
    },
    {
      "cell_type": "code",
      "source": [
        "# 2.\n",
        "# Apakah garasi mempengaruhi harga rumah yang dijual?\n",
        "ax = sns.barplot(x=\"GRS\", y=\"HARGA\", ci=None, data=Data2)\n",
        "show_values(ax)"
      ],
      "metadata": {
        "colab": {
          "base_uri": "https://localhost:8080/",
          "height": 290
        },
        "id": "yQ4a7XdsWZX3",
        "outputId": "c21af084-72d2-4a44-db20-679dea745638"
      },
      "execution_count": 67,
      "outputs": [
        {
          "output_type": "display_data",
          "data": {
            "text/plain": [
              "<Figure size 432x288 with 1 Axes>"
            ],
            "image/png": "[encoded data removed]"
          },
          "metadata": {
            "needs_background": "light"
          }
        }
      ]
    },
    {
      "cell_type": "markdown",
      "source": [
        "Dapat dilihat bahwa harga rumah yang memiliki garasi akan lebih mahal dibandingkan rumah yang tidak memiliki garasi"
      ],
      "metadata": {
        "id": "oDcSx0mrWgu_"
      }
    },
    {
      "cell_type": "code",
      "source": [
        "# 3.\n",
        "# Apakah garasi mempengaruhi harga rumah yang dijual?\n",
        "ax = sns.barplot(x=\"GRS\", y=\"LT\", ci=None, data=Data2)\n",
        "show_values(ax)"
      ],
      "metadata": {
        "colab": {
          "base_uri": "https://localhost:8080/",
          "height": 279
        },
        "id": "7kHXZTusWxRm",
        "outputId": "93eb3146-2b7e-485a-eb8f-e4aaf27e0064"
      },
      "execution_count": 68,
      "outputs": [
        {
          "output_type": "display_data",
          "data": {
            "text/plain": [
              "<Figure size 432x288 with 1 Axes>"
            ],
            "image/png": "[encoded data removed]"
          },
          "metadata": {
            "needs_background": "light"
          }
        }
      ]
    },
    {
      "cell_type": "markdown",
      "source": [
        "Dapat dilihat bahwa rumah yang memiliki garasi akan lebih luas dibandingkan rumah yang tidak memiliki garasi, dan ini berkorelasi dengan plot #2 yang mengakibatkan harga rumah yang terdapat garasi lebih mahal"
      ],
      "metadata": {
        "id": "lpzTMDDfXJSv"
      }
    },
    {
      "cell_type": "code",
      "source": [
        "# 4.\n",
        "# Apakah terdapat perbedaan jumlah rumah yang dijual terhadap ajumlah kamar tidur?\n",
        "data = Data2['JKT']\n",
        "\n",
        "proporsion = Counter(data)\n",
        "values = [int(v) for v in proporsion.values()]\n",
        "colors = ['r', 'g', 'b', 'y']\n",
        "labels = proporsion.keys()\n",
        "explode = (0.1, 0.1, 0.1, 0.1)\n",
        "plt.pie(values, colors=colors, labels= values, explode=explode, shadow=True)\n",
        "plt.title('Jumlah Rumah')\n",
        "plt.legend(labels,loc='best')\n",
        "plt.show()"
      ],
      "metadata": {
        "id": "BCoQMuBFMkAe",
        "colab": {
          "base_uri": "https://localhost:8080/",
          "height": 264
        },
        "outputId": "40787590-d532-486d-9c03-ce278f7bf2c8"
      },
      "execution_count": 83,
      "outputs": [
        {
          "output_type": "display_data",
          "data": {
            "text/plain": [
              "<Figure size 432x288 with 1 Axes>"
            ],
            "image/png": "[encoded data removed]"
          },
          "metadata": {}
        }
      ]
    },
    {
      "cell_type": "markdown",
      "source": [
        "Dapat dilihat bahwa didaerah jakarta selatan, lebih banyak rumah yang dijual dengan memiliki 4 kamar tidur"
      ],
      "metadata": {
        "id": "Y30dSX2EUUXZ"
      }
    },
    {
      "cell_type": "code",
      "source": [
        "# 5.\n",
        "# Apakah jumlah kamar tidur mempengaruhi harga rumah yang dijual?\n",
        "ax = sns.barplot(x=\"JKT\", y=\"HARGA\", ci=None, data=Data2)\n",
        "show_values(ax)"
      ],
      "metadata": {
        "colab": {
          "base_uri": "https://localhost:8080/",
          "height": 290
        },
        "id": "2lKjAlK6Ur19",
        "outputId": "22e2c94e-b70b-484d-9b09-b6301529f79f"
      },
      "execution_count": 66,
      "outputs": [
        {
          "output_type": "display_data",
          "data": {
            "text/plain": [
              "<Figure size 432x288 with 1 Axes>"
            ],
            "image/png": "[encoded data removed]"
          },
          "metadata": {
            "needs_background": "light"
          }
        }
      ]
    },
    {
      "cell_type": "markdown",
      "source": [
        "Dapat dilihat bahwa harga rumah dengan jumlah kamar tidur 5, memiliki harga yang lebih mahal dibandingkan dengan rumah yang memiliki kamar tidur 6 dan 4 "
      ],
      "metadata": {
        "id": "yTMRtOyKVA6-"
      }
    }
  ]
}