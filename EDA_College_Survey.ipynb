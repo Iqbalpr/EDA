{
  "nbformat": 4,
  "nbformat_minor": 0,
  "metadata": {
    "colab": {
      "provenance": [],
      "collapsed_sections": [
        "hSTLZW3Bu0X-",
        "zoIH_UEHvH-0",
        "CjH0CpKJB_fq"
      ]
    },
    "kernelspec": {
      "name": "python3",
      "display_name": "Python 3"
    },
    "language_info": {
      "name": "python"
    }
  },
  "cells": [
    {
      "cell_type": "code",
      "execution_count": null,
      "metadata": {
        "id": "MJP-uRa5sFxE"
      },
      "outputs": [],
      "source": [
        "import numpy as np\n",
        "import pandas as pd\n",
        "import seaborn as sns\n",
        "import matplotlib.pyplot as plt\n",
        "from google.colab import files"
      ]
    },
    {
      "cell_type": "markdown",
      "source": [
        "# **Import Data**"
      ],
      "metadata": {
        "id": "hSTLZW3Bu0X-"
      }
    },
    {
      "cell_type": "code",
      "source": [
        "# Kita import data survey yang kita punya\n",
        "uploaded = files.upload()"
      ],
      "metadata": {
        "colab": {
          "resources": {
            "http://localhost:8080/nbextensions/google.colab/files.js": {
              "data": "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",
              "ok": true,
              "headers": [
                [
                  "content-type",
                  "application/javascript"
                ]
              ],
              "status": 200,
              "status_text": ""
            }
          },
          "base_uri": "https://localhost:8080/",
          "height": 111
        },
        "id": "JT8YmnDGu3Wt",
        "outputId": "92e2b30f-6105-4c23-d8a5-d1693de9e05b"
      },
      "execution_count": null,
      "outputs": [
        {
          "output_type": "display_data",
          "data": {
            "text/plain": [
              "<IPython.core.display.HTML object>"
            ],
            "text/html": [
              "\n",
              "     <input type=\"file\" id=\"files-38c48da0-8013-4d43-80f9-738660bc1c5b\" name=\"files[]\" multiple disabled\n",
              "        style=\"border:none\" />\n",
              "     <output id=\"result-38c48da0-8013-4d43-80f9-738660bc1c5b\">\n",
              "      Upload widget is only available when the cell has been executed in the\n",
              "      current browser session. Please rerun this cell to enable.\n",
              "      </output>\n",
              "      <script src=\"/nbextensions/google.colab/files.js\"></script> "
            ]
          },
          "metadata": {}
        },
        {
          "output_type": "stream",
          "name": "stdout",
          "text": [
            "Saving Survey Penelitian Pengaruh Status Ekonomi Keluarga terhadap Prestasi Akademik Mahasiswa FST UIN Jakarta (Responses).xlsx to Survey Penelitian Pengaruh Status Ekonomi Keluarga terhadap Prestasi Akademik Mahasiswa FST UIN Jakarta (Responses).xlsx\n"
          ]
        }
      ]
    },
    {
      "cell_type": "code",
      "source": [
        "# Karena nama data excel yang kita punya terlalu panjang, maka kita definisikan nama baru\n",
        "Data = pd.read_excel('Survey Penelitian Pengaruh Status Ekonomi Keluarga terhadap Prestasi Akademik Mahasiswa FST UIN Jakarta (Responses).xlsx')\n",
        "\n",
        "# Lalu kita lihat seperti apa data yang kita punya\n",
        "Data"
      ],
      "metadata": {
        "colab": {
          "base_uri": "https://localhost:8080/",
          "height": 1000
        },
        "id": "4OllId5mu7zF",
        "outputId": "13150434-845f-406f-f72b-e159280394fa"
      },
      "execution_count": null,
      "outputs": [
        {
          "output_type": "execute_result",
          "data": {
            "text/plain": [
              "                  Timestamp   Domisili Rumah (Kota) Jenis Kelamin     Jurusan  \\\n",
              "0   2022-04-10 17:53:01.578                 Jakarta     Perempuan     Biologi   \n",
              "1   2022-04-10 18:04:08.351                 Jakarta     Perempuan     Biologi   \n",
              "2   2022-04-10 18:15:55.337              Tangerang      Perempuan     Biologi   \n",
              "3   2022-04-10 18:19:23.767                 Jakarta     Perempuan     Biologi   \n",
              "4   2022-04-10 20:12:35.871      Tangerang Selatan      Laki-laki  Matematika   \n",
              "..                      ...                     ...           ...         ...   \n",
              "106 2022-04-14 16:06:22.444  Kota Tangerang Selatan     Perempuan  Matematika   \n",
              "107 2022-04-14 21:38:34.931               Tangerang     Laki-laki  Matematika   \n",
              "108 2022-04-16 11:48:26.465                 Jakarta     Perempuan  Matematika   \n",
              "109 2022-04-18 16:17:30.062       Tangerang Selatan     Laki-laki     Biologi   \n",
              "110 2022-04-18 23:33:48.932                 Jakarta     Perempuan      Fisika   \n",
              "\n",
              "    Semester          Pendapatan Orang Tua Range Pengeluaran per Bulan  \\\n",
              "0        4.0               > Rp 10.000.000  Rp5.000.000 - Rp10.000.000   \n",
              "1        4.0   Rp 1.000.000 - Rp 5.000.000   Rp1.000.000 - Rp5.000.000   \n",
              "2        4.0               < Rp. 1.000.000   Rp1.000.000 - Rp5.000.000   \n",
              "3        4.0   Rp 1.000.000 - Rp 5.000.000   Rp1.000.000 - Rp5.000.000   \n",
              "4        6.0   Rp 1.000.000 - Rp 5.000.000   Rp1.000.000 - Rp5.000.000   \n",
              "..       ...                           ...                         ...   \n",
              "106      4.0  Rp 5.000.000 - Rp 10.000.000   Rp1.000.000 - Rp5.000.000   \n",
              "107      6.0               < Rp. 1.000.000   Rp1.000.000 - Rp5.000.000   \n",
              "108      6.0  Rp 5.000.000 - Rp 10.000.000  Rp5.000.000 - Rp10.000.000   \n",
              "109      4.0   Rp 1.000.000 - Rp 5.000.000   Rp1.000.000 - Rp5.000.000   \n",
              "110      6.0   Rp 1.000.000 - Rp 5.000.000   Rp1.000.000 - Rp5.000.000   \n",
              "\n",
              "    Jumlah Kendaraan Bermotor yang Dimiliki Gambaran Status Sosial  \\\n",
              "0                                       2.0           Menegah Atas   \n",
              "1                                       2.0                  Bawah   \n",
              "2                                       1.0          Menegah Bawah   \n",
              "3                                       > 3           Menegah Atas   \n",
              "4                                       2.0           Menegah Atas   \n",
              "..                                      ...                    ...   \n",
              "106                                     2.0          Menegah Bawah   \n",
              "107                                     1.0                  Bawah   \n",
              "108                                     2.0          Menegah Bawah   \n",
              "109                                     2.0          Menegah Bawah   \n",
              "110                                     2.0          Menegah Bawah   \n",
              "\n",
              "    Jumlah Anggota Keluarga IPK yang diperoleh hingga saat ini  \\\n",
              "0                       3.0                        2.50 - 3.00   \n",
              "1                       > 4                        2.50 - 3.00   \n",
              "2                       4.0                        3.00 - 3.50   \n",
              "3                       > 4                             > 3.50   \n",
              "4                       4.0                             > 3.50   \n",
              "..                      ...                                ...   \n",
              "106                     4.0                        2.50 - 3.00   \n",
              "107                     4.0                             > 3.50   \n",
              "108                     4.0                             > 3.50   \n",
              "109                     4.0                        3.00 - 3.50   \n",
              "110                     4.0                             > 3.50   \n",
              "\n",
              "    Apakah Anda penerima beasiswa ?                Prestasi  \\\n",
              "0                             Tidak                Akademik   \n",
              "1                                Ya                Akademik   \n",
              "2                             Tidak  Akademik, Non Akademik   \n",
              "3                             Tidak            Non Akademik   \n",
              "4                             Tidak                Akademik   \n",
              "..                              ...                     ...   \n",
              "106                           Tidak          Tidak Keduanya   \n",
              "107                              Ya                Akademik   \n",
              "108                           Tidak            Non Akademik   \n",
              "109                           Tidak          Tidak Keduanya   \n",
              "110                           Tidak  Akademik, Non Akademik   \n",
              "\n",
              "    Tingkat pencapaian prestasi Jumlah prestasi   \\\n",
              "0                Tidak keduanya              1.0   \n",
              "1                Tidak keduanya              1.0   \n",
              "2                Tidak keduanya              1.0   \n",
              "3                Tidak keduanya              1.0   \n",
              "4                      Nasional              1.0   \n",
              "..                          ...              ...   \n",
              "106              Tidak keduanya        Tidak ada   \n",
              "107               Internasional              1.0   \n",
              "108                    Nasional              1.0   \n",
              "109              Tidak keduanya        Tidak ada   \n",
              "110                    Nasional              > 3   \n",
              "\n",
              "    Tingkat kosentrasi mahasiswa belajar di rumah  \\\n",
              "0     Keduanya (diantaranya karena keadaan rumah)   \n",
              "1     Keduanya (diantaranya karena keadaan rumah)   \n",
              "2     Keduanya (diantaranya karena keadaan rumah)   \n",
              "3     Keduanya (diantaranya karena keadaan rumah)   \n",
              "4     Keduanya (diantaranya karena keadaan rumah)   \n",
              "..                                            ...   \n",
              "106   Keduanya (diantaranya karena keadaan rumah)   \n",
              "107                                   Tidak Fokus   \n",
              "108   Keduanya (diantaranya karena keadaan rumah)   \n",
              "109   Keduanya (diantaranya karena keadaan rumah)   \n",
              "110   Keduanya (diantaranya karena keadaan rumah)   \n",
              "\n",
              "    Penyebab sulit mengikuti perlombaan atau kompetisi yang biasa dihadapi  \n",
              "0                                  tidak ada keinginan                      \n",
              "1                              tidak memiliki komitmen                      \n",
              "2                                   kurangnya motivasi                      \n",
              "3    Kurangnya motivasi, tidak percaya diri, kurang...                      \n",
              "4                                  kurangnya motivasi                       \n",
              "..                                                 ...                      \n",
              "106                Tidak percaya diri, kurang motivasi                      \n",
              "107        Kurang waktu untuk fokus karena harus kerja                      \n",
              "108    Kurang percaya diri dan merasa belum cukup ilmu                      \n",
              "109  Kurangnya informasi terkait lomba-lomba yang a...                      \n",
              "110  Kurang manajemen waktu dan dipersulitnya admin...                      \n",
              "\n",
              "[111 rows x 17 columns]"
            ],
            "text/html": [
              "\n",
              "  <div id=\"df-8bbab349-dab9-4635-aa23-2ee4e57fed0a\">\n",
              "    <div class=\"colab-df-container\">\n",
              "      <div>\n",
              "<style scoped>\n",
              "    .dataframe tbody tr th:only-of-type {\n",
              "        vertical-align: middle;\n",
              "    }\n",
              "\n",
              "    .dataframe tbody tr th {\n",
              "        vertical-align: top;\n",
              "    }\n",
              "\n",
              "    .dataframe thead th {\n",
              "        text-align: right;\n",
              "    }\n",
              "</style>\n",
              "<table border=\"1\" class=\"dataframe\">\n",
              "  <thead>\n",
              "    <tr style=\"text-align: right;\">\n",
              "      <th></th>\n",
              "      <th>Timestamp</th>\n",
              "      <th>Domisili Rumah (Kota)</th>\n",
              "      <th>Jenis Kelamin</th>\n",
              "      <th>Jurusan</th>\n",
              "      <th>Semester</th>\n",
              "      <th>Pendapatan Orang Tua</th>\n",
              "      <th>Range Pengeluaran per Bulan</th>\n",
              "      <th>Jumlah Kendaraan Bermotor yang Dimiliki</th>\n",
              "      <th>Gambaran Status Sosial</th>\n",
              "      <th>Jumlah Anggota Keluarga</th>\n",
              "      <th>IPK yang diperoleh hingga saat ini</th>\n",
              "      <th>Apakah Anda penerima beasiswa ?</th>\n",
              "      <th>Prestasi</th>\n",
              "      <th>Tingkat pencapaian prestasi</th>\n",
              "      <th>Jumlah prestasi</th>\n",
              "      <th>Tingkat kosentrasi mahasiswa belajar di rumah</th>\n",
              "      <th>Penyebab sulit mengikuti perlombaan atau kompetisi yang biasa dihadapi</th>\n",
              "    </tr>\n",
              "  </thead>\n",
              "  <tbody>\n",
              "    <tr>\n",
              "      <th>0</th>\n",
              "      <td>2022-04-10 17:53:01.578</td>\n",
              "      <td>Jakarta</td>\n",
              "      <td>Perempuan</td>\n",
              "      <td>Biologi</td>\n",
              "      <td>4.0</td>\n",
              "      <td>&gt; Rp 10.000.000</td>\n",
              "      <td>Rp5.000.000 - Rp10.000.000</td>\n",
              "      <td>2.0</td>\n",
              "      <td>Menegah Atas</td>\n",
              "      <td>3.0</td>\n",
              "      <td>2.50 - 3.00</td>\n",
              "      <td>Tidak</td>\n",
              "      <td>Akademik</td>\n",
              "      <td>Tidak keduanya</td>\n",
              "      <td>1.0</td>\n",
              "      <td>Keduanya (diantaranya karena keadaan rumah)</td>\n",
              "      <td>tidak ada keinginan</td>\n",
              "    </tr>\n",
              "    <tr>\n",
              "      <th>1</th>\n",
              "      <td>2022-04-10 18:04:08.351</td>\n",
              "      <td>Jakarta</td>\n",
              "      <td>Perempuan</td>\n",
              "      <td>Biologi</td>\n",
              "      <td>4.0</td>\n",
              "      <td>Rp 1.000.000 - Rp 5.000.000</td>\n",
              "      <td>Rp1.000.000 - Rp5.000.000</td>\n",
              "      <td>2.0</td>\n",
              "      <td>Bawah</td>\n",
              "      <td>&gt; 4</td>\n",
              "      <td>2.50 - 3.00</td>\n",
              "      <td>Ya</td>\n",
              "      <td>Akademik</td>\n",
              "      <td>Tidak keduanya</td>\n",
              "      <td>1.0</td>\n",
              "      <td>Keduanya (diantaranya karena keadaan rumah)</td>\n",
              "      <td>tidak memiliki komitmen</td>\n",
              "    </tr>\n",
              "    <tr>\n",
              "      <th>2</th>\n",
              "      <td>2022-04-10 18:15:55.337</td>\n",
              "      <td>Tangerang</td>\n",
              "      <td>Perempuan</td>\n",
              "      <td>Biologi</td>\n",
              "      <td>4.0</td>\n",
              "      <td>&lt; Rp. 1.000.000</td>\n",
              "      <td>Rp1.000.000 - Rp5.000.000</td>\n",
              "      <td>1.0</td>\n",
              "      <td>Menegah Bawah</td>\n",
              "      <td>4.0</td>\n",
              "      <td>3.00 - 3.50</td>\n",
              "      <td>Tidak</td>\n",
              "      <td>Akademik, Non Akademik</td>\n",
              "      <td>Tidak keduanya</td>\n",
              "      <td>1.0</td>\n",
              "      <td>Keduanya (diantaranya karena keadaan rumah)</td>\n",
              "      <td>kurangnya motivasi</td>\n",
              "    </tr>\n",
              "    <tr>\n",
              "      <th>3</th>\n",
              "      <td>2022-04-10 18:19:23.767</td>\n",
              "      <td>Jakarta</td>\n",
              "      <td>Perempuan</td>\n",
              "      <td>Biologi</td>\n",
              "      <td>4.0</td>\n",
              "      <td>Rp 1.000.000 - Rp 5.000.000</td>\n",
              "      <td>Rp1.000.000 - Rp5.000.000</td>\n",
              "      <td>&gt; 3</td>\n",
              "      <td>Menegah Atas</td>\n",
              "      <td>&gt; 4</td>\n",
              "      <td>&gt; 3.50</td>\n",
              "      <td>Tidak</td>\n",
              "      <td>Non Akademik</td>\n",
              "      <td>Tidak keduanya</td>\n",
              "      <td>1.0</td>\n",
              "      <td>Keduanya (diantaranya karena keadaan rumah)</td>\n",
              "      <td>Kurangnya motivasi, tidak percaya diri, kurang...</td>\n",
              "    </tr>\n",
              "    <tr>\n",
              "      <th>4</th>\n",
              "      <td>2022-04-10 20:12:35.871</td>\n",
              "      <td>Tangerang Selatan</td>\n",
              "      <td>Laki-laki</td>\n",
              "      <td>Matematika</td>\n",
              "      <td>6.0</td>\n",
              "      <td>Rp 1.000.000 - Rp 5.000.000</td>\n",
              "      <td>Rp1.000.000 - Rp5.000.000</td>\n",
              "      <td>2.0</td>\n",
              "      <td>Menegah Atas</td>\n",
              "      <td>4.0</td>\n",
              "      <td>&gt; 3.50</td>\n",
              "      <td>Tidak</td>\n",
              "      <td>Akademik</td>\n",
              "      <td>Nasional</td>\n",
              "      <td>1.0</td>\n",
              "      <td>Keduanya (diantaranya karena keadaan rumah)</td>\n",
              "      <td>kurangnya motivasi</td>\n",
              "    </tr>\n",
              "    <tr>\n",
              "      <th>...</th>\n",
              "      <td>...</td>\n",
              "      <td>...</td>\n",
              "      <td>...</td>\n",
              "      <td>...</td>\n",
              "      <td>...</td>\n",
              "      <td>...</td>\n",
              "      <td>...</td>\n",
              "      <td>...</td>\n",
              "      <td>...</td>\n",
              "      <td>...</td>\n",
              "      <td>...</td>\n",
              "      <td>...</td>\n",
              "      <td>...</td>\n",
              "      <td>...</td>\n",
              "      <td>...</td>\n",
              "      <td>...</td>\n",
              "      <td>...</td>\n",
              "    </tr>\n",
              "    <tr>\n",
              "      <th>106</th>\n",
              "      <td>2022-04-14 16:06:22.444</td>\n",
              "      <td>Kota Tangerang Selatan</td>\n",
              "      <td>Perempuan</td>\n",
              "      <td>Matematika</td>\n",
              "      <td>4.0</td>\n",
              "      <td>Rp 5.000.000 - Rp 10.000.000</td>\n",
              "      <td>Rp1.000.000 - Rp5.000.000</td>\n",
              "      <td>2.0</td>\n",
              "      <td>Menegah Bawah</td>\n",
              "      <td>4.0</td>\n",
              "      <td>2.50 - 3.00</td>\n",
              "      <td>Tidak</td>\n",
              "      <td>Tidak Keduanya</td>\n",
              "      <td>Tidak keduanya</td>\n",
              "      <td>Tidak ada</td>\n",
              "      <td>Keduanya (diantaranya karena keadaan rumah)</td>\n",
              "      <td>Tidak percaya diri, kurang motivasi</td>\n",
              "    </tr>\n",
              "    <tr>\n",
              "      <th>107</th>\n",
              "      <td>2022-04-14 21:38:34.931</td>\n",
              "      <td>Tangerang</td>\n",
              "      <td>Laki-laki</td>\n",
              "      <td>Matematika</td>\n",
              "      <td>6.0</td>\n",
              "      <td>&lt; Rp. 1.000.000</td>\n",
              "      <td>Rp1.000.000 - Rp5.000.000</td>\n",
              "      <td>1.0</td>\n",
              "      <td>Bawah</td>\n",
              "      <td>4.0</td>\n",
              "      <td>&gt; 3.50</td>\n",
              "      <td>Ya</td>\n",
              "      <td>Akademik</td>\n",
              "      <td>Internasional</td>\n",
              "      <td>1.0</td>\n",
              "      <td>Tidak Fokus</td>\n",
              "      <td>Kurang waktu untuk fokus karena harus kerja</td>\n",
              "    </tr>\n",
              "    <tr>\n",
              "      <th>108</th>\n",
              "      <td>2022-04-16 11:48:26.465</td>\n",
              "      <td>Jakarta</td>\n",
              "      <td>Perempuan</td>\n",
              "      <td>Matematika</td>\n",
              "      <td>6.0</td>\n",
              "      <td>Rp 5.000.000 - Rp 10.000.000</td>\n",
              "      <td>Rp5.000.000 - Rp10.000.000</td>\n",
              "      <td>2.0</td>\n",
              "      <td>Menegah Bawah</td>\n",
              "      <td>4.0</td>\n",
              "      <td>&gt; 3.50</td>\n",
              "      <td>Tidak</td>\n",
              "      <td>Non Akademik</td>\n",
              "      <td>Nasional</td>\n",
              "      <td>1.0</td>\n",
              "      <td>Keduanya (diantaranya karena keadaan rumah)</td>\n",
              "      <td>Kurang percaya diri dan merasa belum cukup ilmu</td>\n",
              "    </tr>\n",
              "    <tr>\n",
              "      <th>109</th>\n",
              "      <td>2022-04-18 16:17:30.062</td>\n",
              "      <td>Tangerang Selatan</td>\n",
              "      <td>Laki-laki</td>\n",
              "      <td>Biologi</td>\n",
              "      <td>4.0</td>\n",
              "      <td>Rp 1.000.000 - Rp 5.000.000</td>\n",
              "      <td>Rp1.000.000 - Rp5.000.000</td>\n",
              "      <td>2.0</td>\n",
              "      <td>Menegah Bawah</td>\n",
              "      <td>4.0</td>\n",
              "      <td>3.00 - 3.50</td>\n",
              "      <td>Tidak</td>\n",
              "      <td>Tidak Keduanya</td>\n",
              "      <td>Tidak keduanya</td>\n",
              "      <td>Tidak ada</td>\n",
              "      <td>Keduanya (diantaranya karena keadaan rumah)</td>\n",
              "      <td>Kurangnya informasi terkait lomba-lomba yang a...</td>\n",
              "    </tr>\n",
              "    <tr>\n",
              "      <th>110</th>\n",
              "      <td>2022-04-18 23:33:48.932</td>\n",
              "      <td>Jakarta</td>\n",
              "      <td>Perempuan</td>\n",
              "      <td>Fisika</td>\n",
              "      <td>6.0</td>\n",
              "      <td>Rp 1.000.000 - Rp 5.000.000</td>\n",
              "      <td>Rp1.000.000 - Rp5.000.000</td>\n",
              "      <td>2.0</td>\n",
              "      <td>Menegah Bawah</td>\n",
              "      <td>4.0</td>\n",
              "      <td>&gt; 3.50</td>\n",
              "      <td>Tidak</td>\n",
              "      <td>Akademik, Non Akademik</td>\n",
              "      <td>Nasional</td>\n",
              "      <td>&gt; 3</td>\n",
              "      <td>Keduanya (diantaranya karena keadaan rumah)</td>\n",
              "      <td>Kurang manajemen waktu dan dipersulitnya admin...</td>\n",
              "    </tr>\n",
              "  </tbody>\n",
              "</table>\n",
              "<p>111 rows × 17 columns</p>\n",
              "</div>\n",
              "      <button class=\"colab-df-convert\" onclick=\"convertToInteractive('df-8bbab349-dab9-4635-aa23-2ee4e57fed0a')\"\n",
              "              title=\"Convert this dataframe to an interactive table.\"\n",
              "              style=\"display:none;\">\n",
              "        \n",
              "  <svg xmlns=\"http://www.w3.org/2000/svg\" height=\"24px\"viewBox=\"0 0 24 24\"\n",
              "       width=\"24px\">\n",
              "    <path d=\"M0 0h24v24H0V0z\" fill=\"none\"/>\n",
              "    <path d=\"M18.56 5.44l.94 2.06.94-2.06 2.06-.94-2.06-.94-.94-2.06-.94 2.06-2.06.94zm-11 1L8.5 8.5l.94-2.06 2.06-.94-2.06-.94L8.5 2.5l-.94 2.06-2.06.94zm10 10l.94 2.06.94-2.06 2.06-.94-2.06-.94-.94-2.06-.94 2.06-2.06.94z\"/><path d=\"M17.41 7.96l-1.37-1.37c-.4-.4-.92-.59-1.43-.59-.52 0-1.04.2-1.43.59L10.3 9.45l-7.72 7.72c-.78.78-.78 2.05 0 2.83L4 21.41c.39.39.9.59 1.41.59.51 0 1.02-.2 1.41-.59l7.78-7.78 2.81-2.81c.8-.78.8-2.07 0-2.86zM5.41 20L4 18.59l7.72-7.72 1.47 1.35L5.41 20z\"/>\n",
              "  </svg>\n",
              "      </button>\n",
              "      \n",
              "  <style>\n",
              "    .colab-df-container {\n",
              "      display:flex;\n",
              "      flex-wrap:wrap;\n",
              "      gap: 12px;\n",
              "    }\n",
              "\n",
              "    .colab-df-convert {\n",
              "      background-color: #E8F0FE;\n",
              "      border: none;\n",
              "      border-radius: 50%;\n",
              "      cursor: pointer;\n",
              "      display: none;\n",
              "      fill: #1967D2;\n",
              "      height: 32px;\n",
              "      padding: 0 0 0 0;\n",
              "      width: 32px;\n",
              "    }\n",
              "\n",
              "    .colab-df-convert:hover {\n",
              "      background-color: #E2EBFA;\n",
              "      box-shadow: 0px 1px 2px rgba(60, 64, 67, 0.3), 0px 1px 3px 1px rgba(60, 64, 67, 0.15);\n",
              "      fill: #174EA6;\n",
              "    }\n",
              "\n",
              "    [theme=dark] .colab-df-convert {\n",
              "      background-color: #3B4455;\n",
              "      fill: #D2E3FC;\n",
              "    }\n",
              "\n",
              "    [theme=dark] .colab-df-convert:hover {\n",
              "      background-color: #434B5C;\n",
              "      box-shadow: 0px 1px 3px 1px rgba(0, 0, 0, 0.15);\n",
              "      filter: drop-shadow(0px 1px 2px rgba(0, 0, 0, 0.3));\n",
              "      fill: #FFFFFF;\n",
              "    }\n",
              "  </style>\n",
              "\n",
              "      <script>\n",
              "        const buttonEl =\n",
              "          document.querySelector('#df-8bbab349-dab9-4635-aa23-2ee4e57fed0a button.colab-df-convert');\n",
              "        buttonEl.style.display =\n",
              "          google.colab.kernel.accessAllowed ? 'block' : 'none';\n",
              "\n",
              "        async function convertToInteractive(key) {\n",
              "          const element = document.querySelector('#df-8bbab349-dab9-4635-aa23-2ee4e57fed0a');\n",
              "          const dataTable =\n",
              "            await google.colab.kernel.invokeFunction('convertToInteractive',\n",
              "                                                     [key], {});\n",
              "          if (!dataTable) return;\n",
              "\n",
              "          const docLinkHtml = 'Like what you see? Visit the ' +\n",
              "            '<a target=\"_blank\" href=https://colab.research.google.com/notebooks/data_table.ipynb>data table notebook</a>'\n",
              "            + ' to learn more about interactive tables.';\n",
              "          element.innerHTML = '';\n",
              "          dataTable['output_type'] = 'display_data';\n",
              "          await google.colab.output.renderOutput(dataTable, element);\n",
              "          const docLink = document.createElement('div');\n",
              "          docLink.innerHTML = docLinkHtml;\n",
              "          element.appendChild(docLink);\n",
              "        }\n",
              "      </script>\n",
              "    </div>\n",
              "  </div>\n",
              "  "
            ]
          },
          "metadata": {},
          "execution_count": 3
        }
      ]
    },
    {
      "cell_type": "markdown",
      "source": [
        "# **Merapihkan Data**"
      ],
      "metadata": {
        "id": "zoIH_UEHvH-0"
      }
    },
    {
      "cell_type": "code",
      "source": [
        "# Kita cek kolom apa saja yang kita punya dalam Data\n",
        "Data.columns"
      ],
      "metadata": {
        "colab": {
          "base_uri": "https://localhost:8080/"
        },
        "id": "TNegFNY9vBB9",
        "outputId": "b78e31e2-e34b-4e5b-88b8-00b6aff20be1"
      },
      "execution_count": null,
      "outputs": [
        {
          "output_type": "execute_result",
          "data": {
            "text/plain": [
              "Index(['Timestamp', 'Domisili Rumah (Kota)', 'Jenis Kelamin', 'Jurusan',\n",
              "       'Semester', 'Pendapatan Orang Tua', 'Range Pengeluaran per Bulan',\n",
              "       'Jumlah Kendaraan Bermotor yang Dimiliki', 'Gambaran Status Sosial',\n",
              "       'Jumlah Anggota Keluarga', 'IPK yang diperoleh hingga saat ini',\n",
              "       'Apakah Anda penerima beasiswa ?', 'Prestasi',\n",
              "       'Tingkat pencapaian prestasi', 'Jumlah prestasi ',\n",
              "       'Tingkat kosentrasi mahasiswa belajar di rumah',\n",
              "       'Penyebab sulit mengikuti perlombaan atau kompetisi yang biasa dihadapi'],\n",
              "      dtype='object')"
            ]
          },
          "metadata": {},
          "execution_count": 4
        }
      ]
    },
    {
      "cell_type": "code",
      "source": [
        "# Berikutnya, Kita tampilkan tipe kolom dalam Data\n",
        "Data.info()"
      ],
      "metadata": {
        "colab": {
          "base_uri": "https://localhost:8080/"
        },
        "id": "EGBOUrI-vM9k",
        "outputId": "cc70975b-01e9-40e7-fa3e-c48dfcf3913b"
      },
      "execution_count": null,
      "outputs": [
        {
          "output_type": "stream",
          "name": "stdout",
          "text": [
            "<class 'pandas.core.frame.DataFrame'>\n",
            "RangeIndex: 111 entries, 0 to 110\n",
            "Data columns (total 17 columns):\n",
            " #   Column                                                                  Non-Null Count  Dtype         \n",
            "---  ------                                                                  --------------  -----         \n",
            " 0   Timestamp                                                               111 non-null    datetime64[ns]\n",
            " 1   Domisili Rumah (Kota)                                                   111 non-null    object        \n",
            " 2   Jenis Kelamin                                                           111 non-null    object        \n",
            " 3   Jurusan                                                                 111 non-null    object        \n",
            " 4   Semester                                                                111 non-null    object        \n",
            " 5   Pendapatan Orang Tua                                                    111 non-null    object        \n",
            " 6   Range Pengeluaran per Bulan                                             111 non-null    object        \n",
            " 7   Jumlah Kendaraan Bermotor yang Dimiliki                                 111 non-null    object        \n",
            " 8   Gambaran Status Sosial                                                  111 non-null    object        \n",
            " 9   Jumlah Anggota Keluarga                                                 111 non-null    object        \n",
            " 10  IPK yang diperoleh hingga saat ini                                      111 non-null    object        \n",
            " 11  Apakah Anda penerima beasiswa ?                                         111 non-null    object        \n",
            " 12  Prestasi                                                                111 non-null    object        \n",
            " 13  Tingkat pencapaian prestasi                                             111 non-null    object        \n",
            " 14  Jumlah prestasi                                                         111 non-null    object        \n",
            " 15  Tingkat kosentrasi mahasiswa belajar di rumah                           111 non-null    object        \n",
            " 16  Penyebab sulit mengikuti perlombaan atau kompetisi yang biasa dihadapi  111 non-null    object        \n",
            "dtypes: datetime64[ns](1), object(16)\n",
            "memory usage: 14.9+ KB\n"
          ]
        }
      ]
    },
    {
      "cell_type": "markdown",
      "source": [
        "Dapat dilihat bahwa tipe data belum sesuai, maka selanjutnya kita akan mengubah beberapa tipe data menjadi category atau int/float"
      ],
      "metadata": {
        "id": "mG73RAj8vU5l"
      }
    },
    {
      "cell_type": "code",
      "source": [
        "columns = ['Domisili Rumah (Kota)', 'Jenis Kelamin', 'Jurusan', 'Gambaran Status Sosial', 'Apakah Anda penerima beasiswa ?', 'Prestasi', 'Tingkat pencapaian prestasi', 'Tingkat kosentrasi mahasiswa belajar di rumah', 'Penyebab sulit mengikuti perlombaan atau kompetisi yang biasa dihadapi']\n",
        "Data[columns] = Data[columns].astype('category')"
      ],
      "metadata": {
        "id": "tWMsHi1OvVj1"
      },
      "execution_count": null,
      "outputs": []
    },
    {
      "cell_type": "code",
      "source": [
        "# Kita cek kembali tipe data yang telah kita ubah\n",
        "Data.info()"
      ],
      "metadata": {
        "colab": {
          "base_uri": "https://localhost:8080/"
        },
        "id": "0uYREnV4vaYF",
        "outputId": "cfcb3384-fc8d-4eaf-a80b-9c3294332503"
      },
      "execution_count": null,
      "outputs": [
        {
          "output_type": "stream",
          "name": "stdout",
          "text": [
            "<class 'pandas.core.frame.DataFrame'>\n",
            "RangeIndex: 111 entries, 0 to 110\n",
            "Data columns (total 17 columns):\n",
            " #   Column                                                                  Non-Null Count  Dtype         \n",
            "---  ------                                                                  --------------  -----         \n",
            " 0   Timestamp                                                               111 non-null    datetime64[ns]\n",
            " 1   Domisili Rumah (Kota)                                                   111 non-null    category      \n",
            " 2   Jenis Kelamin                                                           111 non-null    category      \n",
            " 3   Jurusan                                                                 111 non-null    category      \n",
            " 4   Semester                                                                111 non-null    object        \n",
            " 5   Pendapatan Orang Tua                                                    111 non-null    object        \n",
            " 6   Range Pengeluaran per Bulan                                             111 non-null    object        \n",
            " 7   Jumlah Kendaraan Bermotor yang Dimiliki                                 111 non-null    object        \n",
            " 8   Gambaran Status Sosial                                                  111 non-null    category      \n",
            " 9   Jumlah Anggota Keluarga                                                 111 non-null    object        \n",
            " 10  IPK yang diperoleh hingga saat ini                                      111 non-null    object        \n",
            " 11  Apakah Anda penerima beasiswa ?                                         111 non-null    category      \n",
            " 12  Prestasi                                                                111 non-null    category      \n",
            " 13  Tingkat pencapaian prestasi                                             111 non-null    category      \n",
            " 14  Jumlah prestasi                                                         111 non-null    object        \n",
            " 15  Tingkat kosentrasi mahasiswa belajar di rumah                           111 non-null    category      \n",
            " 16  Penyebab sulit mengikuti perlombaan atau kompetisi yang biasa dihadapi  111 non-null    category      \n",
            "dtypes: category(9), datetime64[ns](1), object(7)\n",
            "memory usage: 13.5+ KB\n"
          ]
        }
      ]
    },
    {
      "cell_type": "markdown",
      "source": [
        "Dapat dilihat bahwa beberapa data yang telah diubah kedalam bentuk category, selanjutnya kita ubah beberapa kolom yang lain kedalam tipe int/float, tapi ada beberapa data yang dalam bentuk numerik/angka banyak memiliki interval dan notasi > (greater than) maka, kita akan mengubah values tersebut"
      ],
      "metadata": {
        "id": "DvLnfzSIvenl"
      }
    },
    {
      "cell_type": "code",
      "source": [
        "# 1\n",
        "#1. Kita asumsikan Semester \"> 6\" adalah 7\n",
        "Data['Semester'] = Data['Semester'].replace('> 6', 7)\n",
        "Data['Semester'].head(11)\n",
        "#telah berhasil kita ubah"
      ],
      "metadata": {
        "colab": {
          "base_uri": "https://localhost:8080/"
        },
        "id": "VZMvNTUKveLt",
        "outputId": "07c38837-1e33-4a06-acb9-dc0a0fca335a"
      },
      "execution_count": null,
      "outputs": [
        {
          "output_type": "execute_result",
          "data": {
            "text/plain": [
              "0     4.0\n",
              "1     4.0\n",
              "2     4.0\n",
              "3     4.0\n",
              "4     6.0\n",
              "5     6.0\n",
              "6     6.0\n",
              "7     6.0\n",
              "8     6.0\n",
              "9     7.0\n",
              "10    7.0\n",
              "Name: Semester, dtype: float64"
            ]
          },
          "metadata": {},
          "execution_count": 8
        }
      ]
    },
    {
      "cell_type": "code",
      "source": [
        "# 2\n",
        "Data['Pendapatan Orang Tua'] = Data['Pendapatan Orang Tua'].replace('< Rp. 1.000.000', 900000) \n",
        "Data['Pendapatan Orang Tua'] = Data['Pendapatan Orang Tua'].replace('> Rp 10.000.000', 11000000)\n",
        "Data['Pendapatan Orang Tua'] = Data['Pendapatan Orang Tua'].replace('Rp 1.000.000 - Rp 5.000.000', 3000000) # Nilai median\n",
        "Data['Pendapatan Orang Tua'] = Data['Pendapatan Orang Tua'].replace('Rp 5.000.000 - Rp 10.000.000', 7500000) # Nilai median\n",
        "Data['Pendapatan Orang Tua'] = Data['Pendapatan Orang Tua'].replace('Rp 5.000.001 - Rp 10.000.000', 7500000) # Nilai median\n",
        "\n",
        "Data['Pendapatan Orang Tua'].head(10)\n",
        "#telah berhasil kita ubah"
      ],
      "metadata": {
        "colab": {
          "base_uri": "https://localhost:8080/"
        },
        "id": "s4AFbogQvyvt",
        "outputId": "5a9c89ad-bd8c-42d5-83dc-f8e5f1e2afef"
      },
      "execution_count": null,
      "outputs": [
        {
          "output_type": "execute_result",
          "data": {
            "text/plain": [
              "0    11000000\n",
              "1     3000000\n",
              "2      900000\n",
              "3     3000000\n",
              "4     3000000\n",
              "5     3000000\n",
              "6    11000000\n",
              "7     3000000\n",
              "8     7500000\n",
              "9     7500000\n",
              "Name: Pendapatan Orang Tua, dtype: int64"
            ]
          },
          "metadata": {},
          "execution_count": 9
        }
      ]
    },
    {
      "cell_type": "code",
      "source": [
        "# 3\n",
        "Data['Range Pengeluaran per Bulan'] = Data['Range Pengeluaran per Bulan'].replace('< Rp1.000.000', 900000) \n",
        "Data['Range Pengeluaran per Bulan'] = Data['Range Pengeluaran per Bulan'].replace('> Rp10.000.000', 11000000)\n",
        "Data['Range Pengeluaran per Bulan'] = Data['Range Pengeluaran per Bulan'].replace('Rp1.000.000 - Rp5.000.000', 3000000) # Nilai median\n",
        "Data['Range Pengeluaran per Bulan'] = Data['Range Pengeluaran per Bulan'].replace('Rp5.000.000 - Rp10.000.000', 7500000)\n",
        "Data['Range Pengeluaran per Bulan'] = Data['Range Pengeluaran per Bulan'].replace('Rp5.000.001 - Rp10.000.000', 7500000) # Nilai median\n",
        "\n",
        "Data['Range Pengeluaran per Bulan'].head(10)"
      ],
      "metadata": {
        "colab": {
          "base_uri": "https://localhost:8080/"
        },
        "id": "xxOSNVulv5dM",
        "outputId": "9be50569-abb1-4e6f-a59c-1b15d7c0386d"
      },
      "execution_count": null,
      "outputs": [
        {
          "output_type": "execute_result",
          "data": {
            "text/plain": [
              "0     7500000\n",
              "1     3000000\n",
              "2     3000000\n",
              "3     3000000\n",
              "4     3000000\n",
              "5     3000000\n",
              "6    11000000\n",
              "7     3000000\n",
              "8     3000000\n",
              "9     3000000\n",
              "Name: Range Pengeluaran per Bulan, dtype: int64"
            ]
          },
          "metadata": {},
          "execution_count": 10
        }
      ]
    },
    {
      "cell_type": "code",
      "source": [
        "# 4\n",
        "Data['Jumlah Kendaraan Bermotor yang Dimiliki'] = Data['Jumlah Kendaraan Bermotor yang Dimiliki'].replace('> 3', 4)\n",
        "Data['Jumlah Kendaraan Bermotor yang Dimiliki'] = Data['Jumlah Kendaraan Bermotor yang Dimiliki'].replace('Tidak ada', 0)\n",
        "\n",
        "Data['Jumlah Kendaraan Bermotor yang Dimiliki'].head(10)\n",
        "#telah berhasil kita ubah"
      ],
      "metadata": {
        "colab": {
          "base_uri": "https://localhost:8080/"
        },
        "id": "8NRKHvoFv-MN",
        "outputId": "19bfe3ef-07c5-4ef8-d064-f699587465ba"
      },
      "execution_count": null,
      "outputs": [
        {
          "output_type": "execute_result",
          "data": {
            "text/plain": [
              "0    2.0\n",
              "1    2.0\n",
              "2    1.0\n",
              "3    4.0\n",
              "4    2.0\n",
              "5    1.0\n",
              "6    1.0\n",
              "7    1.0\n",
              "8    1.0\n",
              "9    1.0\n",
              "Name: Jumlah Kendaraan Bermotor yang Dimiliki, dtype: float64"
            ]
          },
          "metadata": {},
          "execution_count": 11
        }
      ]
    },
    {
      "cell_type": "code",
      "source": [
        "# 5\n",
        "Data['Jumlah Anggota Keluarga'] = Data['Jumlah Anggota Keluarga'].replace('> 4', 5)\n",
        "Data['Jumlah Anggota Keluarga'].head(10)\n",
        "#telah berhasil kita ubah"
      ],
      "metadata": {
        "colab": {
          "base_uri": "https://localhost:8080/"
        },
        "id": "UuulqzVAwCIe",
        "outputId": "7361625f-4866-4f0e-86f1-8423b19a8aef"
      },
      "execution_count": null,
      "outputs": [
        {
          "output_type": "execute_result",
          "data": {
            "text/plain": [
              "0    3.0\n",
              "1    5.0\n",
              "2    4.0\n",
              "3    5.0\n",
              "4    4.0\n",
              "5    4.0\n",
              "6    5.0\n",
              "7    4.0\n",
              "8    4.0\n",
              "9    4.0\n",
              "Name: Jumlah Anggota Keluarga, dtype: float64"
            ]
          },
          "metadata": {},
          "execution_count": 12
        }
      ]
    },
    {
      "cell_type": "code",
      "source": [
        "# 6\n",
        "Data['IPK yang diperoleh hingga saat ini'] = Data['IPK yang diperoleh hingga saat ini'].replace('< 2.50', 2.45)\n",
        "Data['IPK yang diperoleh hingga saat ini'] = Data['IPK yang diperoleh hingga saat ini'].replace('2.50 - 3.00', 2.75)\n",
        "Data['IPK yang diperoleh hingga saat ini'] = Data['IPK yang diperoleh hingga saat ini'].replace('3.00 - 3.50', 3.25)\n",
        "Data['IPK yang diperoleh hingga saat ini'] = Data['IPK yang diperoleh hingga saat ini'].replace('> 3.50', 3.60)\n",
        "\n",
        "Data['IPK yang diperoleh hingga saat ini'].head(10)\n",
        "#telah berhasil kita ubah"
      ],
      "metadata": {
        "colab": {
          "base_uri": "https://localhost:8080/"
        },
        "id": "h6gLShsGwGD1",
        "outputId": "9c13f020-d3d1-40c6-a501-8b664cc5991c"
      },
      "execution_count": null,
      "outputs": [
        {
          "output_type": "execute_result",
          "data": {
            "text/plain": [
              "0    2.75\n",
              "1    2.75\n",
              "2    3.25\n",
              "3    3.60\n",
              "4    3.60\n",
              "5    2.75\n",
              "6    3.25\n",
              "7    2.75\n",
              "8    3.25\n",
              "9    3.25\n",
              "Name: IPK yang diperoleh hingga saat ini, dtype: float64"
            ]
          },
          "metadata": {},
          "execution_count": 13
        }
      ]
    },
    {
      "cell_type": "code",
      "source": [
        "# 7 \n",
        "Data['Jumlah prestasi '] = Data['Jumlah prestasi '].replace('Tidak ada', 0)\n",
        "Data['Jumlah prestasi '] = Data['Jumlah prestasi '].replace('> 3', 4)\n",
        "\n",
        "Data['Jumlah prestasi '].head(20)\n",
        "#telah kita ubah"
      ],
      "metadata": {
        "colab": {
          "base_uri": "https://localhost:8080/"
        },
        "id": "YFQ60BqowJs9",
        "outputId": "7f5bca33-8af4-4f78-ed92-b43cd7ff59c4"
      },
      "execution_count": null,
      "outputs": [
        {
          "output_type": "execute_result",
          "data": {
            "text/plain": [
              "0     1.0\n",
              "1     1.0\n",
              "2     1.0\n",
              "3     1.0\n",
              "4     1.0\n",
              "5     1.0\n",
              "6     1.0\n",
              "7     1.0\n",
              "8     1.0\n",
              "9     1.0\n",
              "10    1.0\n",
              "11    1.0\n",
              "12    1.0\n",
              "13    1.0\n",
              "14    0.0\n",
              "15    0.0\n",
              "16    2.0\n",
              "17    4.0\n",
              "18    2.0\n",
              "19    0.0\n",
              "Name: Jumlah prestasi , dtype: float64"
            ]
          },
          "metadata": {},
          "execution_count": 14
        }
      ]
    },
    {
      "cell_type": "code",
      "source": [
        "# Kita cek sekali lagi apakah tipe data sudah sesusai dengan pergantian dari values pada tiap kolom\n",
        "Data.info()"
      ],
      "metadata": {
        "colab": {
          "base_uri": "https://localhost:8080/"
        },
        "id": "jL4FeS-XwMW0",
        "outputId": "9d880af5-373c-46e4-c4d1-c689aafb6b64"
      },
      "execution_count": null,
      "outputs": [
        {
          "output_type": "stream",
          "name": "stdout",
          "text": [
            "<class 'pandas.core.frame.DataFrame'>\n",
            "RangeIndex: 111 entries, 0 to 110\n",
            "Data columns (total 17 columns):\n",
            " #   Column                                                                  Non-Null Count  Dtype         \n",
            "---  ------                                                                  --------------  -----         \n",
            " 0   Timestamp                                                               111 non-null    datetime64[ns]\n",
            " 1   Domisili Rumah (Kota)                                                   111 non-null    category      \n",
            " 2   Jenis Kelamin                                                           111 non-null    category      \n",
            " 3   Jurusan                                                                 111 non-null    category      \n",
            " 4   Semester                                                                111 non-null    float64       \n",
            " 5   Pendapatan Orang Tua                                                    111 non-null    int64         \n",
            " 6   Range Pengeluaran per Bulan                                             111 non-null    int64         \n",
            " 7   Jumlah Kendaraan Bermotor yang Dimiliki                                 111 non-null    float64       \n",
            " 8   Gambaran Status Sosial                                                  111 non-null    category      \n",
            " 9   Jumlah Anggota Keluarga                                                 111 non-null    float64       \n",
            " 10  IPK yang diperoleh hingga saat ini                                      111 non-null    float64       \n",
            " 11  Apakah Anda penerima beasiswa ?                                         111 non-null    category      \n",
            " 12  Prestasi                                                                111 non-null    category      \n",
            " 13  Tingkat pencapaian prestasi                                             111 non-null    category      \n",
            " 14  Jumlah prestasi                                                         111 non-null    float64       \n",
            " 15  Tingkat kosentrasi mahasiswa belajar di rumah                           111 non-null    category      \n",
            " 16  Penyebab sulit mengikuti perlombaan atau kompetisi yang biasa dihadapi  111 non-null    category      \n",
            "dtypes: category(9), datetime64[ns](1), float64(5), int64(2)\n",
            "memory usage: 13.5 KB\n"
          ]
        }
      ]
    },
    {
      "cell_type": "markdown",
      "source": [
        "# **Pre-processing dan Akurasi Model**"
      ],
      "metadata": {
        "id": "qPI86EGBwYC9"
      }
    },
    {
      "cell_type": "markdown",
      "source": [
        "Karena sekarang Data sudah kita perbaiki, maka proses selanjutnya yaitu penghapusan kolom yang tuidak dibutuhkan"
      ],
      "metadata": {
        "id": "IWlvYS1VwfhN"
      }
    },
    {
      "cell_type": "code",
      "source": [
        "Data2 = Data.drop('Timestamp', axis = 1)\n",
        "Data2.columns"
      ],
      "metadata": {
        "colab": {
          "base_uri": "https://localhost:8080/"
        },
        "id": "50JE89tDwbwu",
        "outputId": "440ff5a7-f082-407b-d545-7d0aadd42119"
      },
      "execution_count": null,
      "outputs": [
        {
          "output_type": "execute_result",
          "data": {
            "text/plain": [
              "Index(['Domisili Rumah (Kota)', 'Jenis Kelamin', 'Jurusan', 'Semester',\n",
              "       'Pendapatan Orang Tua', 'Range Pengeluaran per Bulan',\n",
              "       'Jumlah Kendaraan Bermotor yang Dimiliki', 'Gambaran Status Sosial',\n",
              "       'Jumlah Anggota Keluarga', 'IPK yang diperoleh hingga saat ini',\n",
              "       'Apakah Anda penerima beasiswa ?', 'Prestasi',\n",
              "       'Tingkat pencapaian prestasi', 'Jumlah prestasi ',\n",
              "       'Tingkat kosentrasi mahasiswa belajar di rumah',\n",
              "       'Penyebab sulit mengikuti perlombaan atau kompetisi yang biasa dihadapi'],\n",
              "      dtype='object')"
            ]
          },
          "metadata": {},
          "execution_count": 16
        }
      ]
    },
    {
      "cell_type": "markdown",
      "source": [
        "Dapat dilihat bahwa kolom timestamp sudah terhapus, selanjutnya kita mengecek apakah terdapat missing values dalam data"
      ],
      "metadata": {
        "id": "UfsdEPZQwlBv"
      }
    },
    {
      "cell_type": "code",
      "source": [
        "Data2.isnull().sum()"
      ],
      "metadata": {
        "colab": {
          "base_uri": "https://localhost:8080/"
        },
        "id": "Yyy5p-AvwlkV",
        "outputId": "4e00ccf2-9797-4dd6-8c67-18e473678335"
      },
      "execution_count": null,
      "outputs": [
        {
          "output_type": "execute_result",
          "data": {
            "text/plain": [
              "Domisili Rumah (Kota)                                                     0\n",
              "Jenis Kelamin                                                             0\n",
              "Jurusan                                                                   0\n",
              "Semester                                                                  0\n",
              "Pendapatan Orang Tua                                                      0\n",
              "Range Pengeluaran per Bulan                                               0\n",
              "Jumlah Kendaraan Bermotor yang Dimiliki                                   0\n",
              "Gambaran Status Sosial                                                    0\n",
              "Jumlah Anggota Keluarga                                                   0\n",
              "IPK yang diperoleh hingga saat ini                                        0\n",
              "Apakah Anda penerima beasiswa ?                                           0\n",
              "Prestasi                                                                  0\n",
              "Tingkat pencapaian prestasi                                               0\n",
              "Jumlah prestasi                                                           0\n",
              "Tingkat kosentrasi mahasiswa belajar di rumah                             0\n",
              "Penyebab sulit mengikuti perlombaan atau kompetisi yang biasa dihadapi    0\n",
              "dtype: int64"
            ]
          },
          "metadata": {},
          "execution_count": 17
        }
      ]
    },
    {
      "cell_type": "markdown",
      "source": [
        "Ternyata data sudah aman dari missing values, lalu kita periksa apakah terdapat data yang berduplikat"
      ],
      "metadata": {
        "id": "MQQwm4jvw1C_"
      }
    },
    {
      "cell_type": "code",
      "source": [
        "Data2.duplicated().sum()"
      ],
      "metadata": {
        "colab": {
          "base_uri": "https://localhost:8080/"
        },
        "id": "xQ03MM5Tw5Dt",
        "outputId": "39b09e00-b168-4978-9132-f6d242c5124b"
      },
      "execution_count": null,
      "outputs": [
        {
          "output_type": "execute_result",
          "data": {
            "text/plain": [
              "0"
            ]
          },
          "metadata": {},
          "execution_count": 18
        }
      ]
    },
    {
      "cell_type": "markdown",
      "source": [
        "Ternyata data juga sudah aman dari terjadinya duplikat, selanjutnya kita akan memerika outlier dari kolom numeric"
      ],
      "metadata": {
        "id": "sLEnZ23rw7P1"
      }
    },
    {
      "cell_type": "code",
      "source": [
        "Data2.info()"
      ],
      "metadata": {
        "colab": {
          "base_uri": "https://localhost:8080/"
        },
        "id": "v7zwkuoY1NVj",
        "outputId": "a1f8f57b-af63-4b2d-f18a-2bbc2824f0d5"
      },
      "execution_count": null,
      "outputs": [
        {
          "output_type": "stream",
          "name": "stdout",
          "text": [
            "<class 'pandas.core.frame.DataFrame'>\n",
            "RangeIndex: 111 entries, 0 to 110\n",
            "Data columns (total 16 columns):\n",
            " #   Column                                                                  Non-Null Count  Dtype   \n",
            "---  ------                                                                  --------------  -----   \n",
            " 0   Domisili Rumah (Kota)                                                   111 non-null    category\n",
            " 1   Jenis Kelamin                                                           111 non-null    category\n",
            " 2   Jurusan                                                                 111 non-null    category\n",
            " 3   Semester                                                                111 non-null    float64 \n",
            " 4   Pendapatan Orang Tua                                                    111 non-null    int64   \n",
            " 5   Range Pengeluaran per Bulan                                             111 non-null    int64   \n",
            " 6   Jumlah Kendaraan Bermotor yang Dimiliki                                 111 non-null    float64 \n",
            " 7   Gambaran Status Sosial                                                  111 non-null    category\n",
            " 8   Jumlah Anggota Keluarga                                                 111 non-null    float64 \n",
            " 9   IPK yang diperoleh hingga saat ini                                      111 non-null    float64 \n",
            " 10  Apakah Anda penerima beasiswa ?                                         111 non-null    category\n",
            " 11  Prestasi                                                                111 non-null    category\n",
            " 12  Tingkat pencapaian prestasi                                             111 non-null    category\n",
            " 13  Jumlah prestasi                                                         111 non-null    float64 \n",
            " 14  Tingkat kosentrasi mahasiswa belajar di rumah                           111 non-null    category\n",
            " 15  Penyebab sulit mengikuti perlombaan atau kompetisi yang biasa dihadapi  111 non-null    category\n",
            "dtypes: category(9), float64(5), int64(2)\n",
            "memory usage: 12.7 KB\n"
          ]
        }
      ]
    },
    {
      "cell_type": "markdown",
      "source": [
        "Berikutnya kita hanya mengecek outlier dan tidak dihapus, dikarenakan merupakan fenomena yang unik dari penelitian ini"
      ],
      "metadata": {
        "id": "DeDVCpt5XhIA"
      }
    },
    {
      "cell_type": "code",
      "source": [
        "# Pengecekan outlier terhadap semua kolom numeric\n",
        "def plot_boxplot(df, ft):\n",
        "  df.boxplot(column=[ft])\n",
        "  plt.grid(True)\n",
        "  plt.show()\n",
        "\n",
        "plot_boxplot(Data2, input())\n",
        "# Text input dapat copy paste dari nama kolom (bertipe int/float) yang terdapat dalam Data2.info()"
      ],
      "metadata": {
        "colab": {
          "base_uri": "https://localhost:8080/",
          "height": 282
        },
        "id": "BqeQTYkfxLA1",
        "outputId": "5ed6c444-4056-41ae-d16e-a6c525089dd1"
      },
      "execution_count": null,
      "outputs": [
        {
          "name": "stdout",
          "output_type": "stream",
          "text": [
            "IPK yang diperoleh hingga saat ini\n"
          ]
        },
        {
          "output_type": "display_data",
          "data": {
            "text/plain": [
              "<Figure size 432x288 with 1 Axes>"
            ],
            "image/png": "[encoded data removed]"
          },
          "metadata": {
            "needs_background": "light"
          }
        }
      ]
    },
    {
      "cell_type": "code",
      "source": [
        "#Data3.corr().style.background_gradient().set_precision(2)\n",
        "Data2.corr().style.background_gradient().set_precision(2)"
      ],
      "metadata": {
        "colab": {
          "base_uri": "https://localhost:8080/",
          "height": 338
        },
        "id": "49ePPbND2b4k",
        "outputId": "07d68997-ab0c-4ed0-eff8-67d4c7d5c9ac"
      },
      "execution_count": null,
      "outputs": [
        {
          "output_type": "stream",
          "name": "stderr",
          "text": [
            "/usr/local/lib/python3.7/dist-packages/ipykernel_launcher.py:2: FutureWarning: this method is deprecated in favour of `Styler.format(precision=..)`\n",
            "  \n"
          ]
        },
        {
          "output_type": "execute_result",
          "data": {
            "text/plain": [
              "<pandas.io.formats.style.Styler at 0x7f84dddf3410>"
            ],
            "text/html": [
              "<style type=\"text/css\">\n",
              "#T_f7d3b_row0_col0, #T_f7d3b_row1_col1, #T_f7d3b_row2_col2, #T_f7d3b_row3_col3, #T_f7d3b_row4_col4, #T_f7d3b_row5_col5, #T_f7d3b_row6_col6 {\n",
              "  background-color: #023858;\n",
              "  color: #f1f1f1;\n",
              "}\n",
              "#T_f7d3b_row0_col1 {\n",
              "  background-color: #dfddec;\n",
              "  color: #000000;\n",
              "}\n",
              "#T_f7d3b_row0_col2 {\n",
              "  background-color: #efe9f3;\n",
              "  color: #000000;\n",
              "}\n",
              "#T_f7d3b_row0_col3 {\n",
              "  background-color: #ede7f2;\n",
              "  color: #000000;\n",
              "}\n",
              "#T_f7d3b_row0_col4, #T_f7d3b_row1_col4, #T_f7d3b_row5_col3 {\n",
              "  background-color: #ede8f3;\n",
              "  color: #000000;\n",
              "}\n",
              "#T_f7d3b_row0_col5, #T_f7d3b_row4_col6, #T_f7d3b_row5_col2 {\n",
              "  background-color: #f7f0f7;\n",
              "  color: #000000;\n",
              "}\n",
              "#T_f7d3b_row0_col6 {\n",
              "  background-color: #f0eaf4;\n",
              "  color: #000000;\n",
              "}\n",
              "#T_f7d3b_row1_col0 {\n",
              "  background-color: #f1ebf4;\n",
              "  color: #000000;\n",
              "}\n",
              "#T_f7d3b_row1_col2 {\n",
              "  background-color: #4e9ac6;\n",
              "  color: #f1f1f1;\n",
              "}\n",
              "#T_f7d3b_row1_col3 {\n",
              "  background-color: #d2d3e7;\n",
              "  color: #000000;\n",
              "}\n",
              "#T_f7d3b_row1_col5, #T_f7d3b_row2_col3 {\n",
              "  background-color: #f1ebf5;\n",
              "  color: #000000;\n",
              "}\n",
              "#T_f7d3b_row1_col6, #T_f7d3b_row2_col5, #T_f7d3b_row6_col0, #T_f7d3b_row6_col1, #T_f7d3b_row6_col2, #T_f7d3b_row6_col3, #T_f7d3b_row6_col4 {\n",
              "  background-color: #fff7fb;\n",
              "  color: #000000;\n",
              "}\n",
              "#T_f7d3b_row2_col0, #T_f7d3b_row5_col0 {\n",
              "  background-color: #faf2f8;\n",
              "  color: #000000;\n",
              "}\n",
              "#T_f7d3b_row2_col1 {\n",
              "  background-color: #4897c4;\n",
              "  color: #f1f1f1;\n",
              "}\n",
              "#T_f7d3b_row2_col4 {\n",
              "  background-color: #d9d8ea;\n",
              "  color: #000000;\n",
              "}\n",
              "#T_f7d3b_row2_col6 {\n",
              "  background-color: #fbf4f9;\n",
              "  color: #000000;\n",
              "}\n",
              "#T_f7d3b_row3_col0 {\n",
              "  background-color: #e5e1ef;\n",
              "  color: #000000;\n",
              "}\n",
              "#T_f7d3b_row3_col1 {\n",
              "  background-color: #b0c2de;\n",
              "  color: #000000;\n",
              "}\n",
              "#T_f7d3b_row3_col2 {\n",
              "  background-color: #dddbec;\n",
              "  color: #000000;\n",
              "}\n",
              "#T_f7d3b_row3_col4, #T_f7d3b_row5_col1 {\n",
              "  background-color: #e3e0ee;\n",
              "  color: #000000;\n",
              "}\n",
              "#T_f7d3b_row3_col5, #T_f7d3b_row4_col1 {\n",
              "  background-color: #e2dfee;\n",
              "  color: #000000;\n",
              "}\n",
              "#T_f7d3b_row3_col6 {\n",
              "  background-color: #eae6f1;\n",
              "  color: #000000;\n",
              "}\n",
              "#T_f7d3b_row4_col0 {\n",
              "  background-color: #f4edf6;\n",
              "  color: #000000;\n",
              "}\n",
              "#T_f7d3b_row4_col2 {\n",
              "  background-color: #d3d4e7;\n",
              "  color: #000000;\n",
              "}\n",
              "#T_f7d3b_row4_col3 {\n",
              "  background-color: #f2ecf5;\n",
              "  color: #000000;\n",
              "}\n",
              "#T_f7d3b_row4_col5 {\n",
              "  background-color: #fef6fb;\n",
              "  color: #000000;\n",
              "}\n",
              "#T_f7d3b_row5_col4 {\n",
              "  background-color: #faf3f9;\n",
              "  color: #000000;\n",
              "}\n",
              "#T_f7d3b_row5_col6 {\n",
              "  background-color: #dcdaeb;\n",
              "  color: #000000;\n",
              "}\n",
              "#T_f7d3b_row6_col5 {\n",
              "  background-color: #ece7f2;\n",
              "  color: #000000;\n",
              "}\n",
              "</style>\n",
              "<table id=\"T_f7d3b_\" class=\"dataframe\">\n",
              "  <thead>\n",
              "    <tr>\n",
              "      <th class=\"blank level0\" >&nbsp;</th>\n",
              "      <th class=\"col_heading level0 col0\" >Semester</th>\n",
              "      <th class=\"col_heading level0 col1\" >Pendapatan Orang Tua</th>\n",
              "      <th class=\"col_heading level0 col2\" >Range Pengeluaran per Bulan</th>\n",
              "      <th class=\"col_heading level0 col3\" >Jumlah Kendaraan Bermotor yang Dimiliki</th>\n",
              "      <th class=\"col_heading level0 col4\" >Jumlah Anggota Keluarga</th>\n",
              "      <th class=\"col_heading level0 col5\" >IPK yang diperoleh hingga saat ini</th>\n",
              "      <th class=\"col_heading level0 col6\" >Jumlah prestasi </th>\n",
              "    </tr>\n",
              "  </thead>\n",
              "  <tbody>\n",
              "    <tr>\n",
              "      <th id=\"T_f7d3b_level0_row0\" class=\"row_heading level0 row0\" >Semester</th>\n",
              "      <td id=\"T_f7d3b_row0_col0\" class=\"data row0 col0\" >1.00</td>\n",
              "      <td id=\"T_f7d3b_row0_col1\" class=\"data row0 col1\" >0.07</td>\n",
              "      <td id=\"T_f7d3b_row0_col2\" class=\"data row0 col2\" >0.01</td>\n",
              "      <td id=\"T_f7d3b_row0_col3\" class=\"data row0 col3\" >0.14</td>\n",
              "      <td id=\"T_f7d3b_row0_col4\" class=\"data row0 col4\" >0.05</td>\n",
              "      <td id=\"T_f7d3b_row0_col5\" class=\"data row0 col5\" >0.02</td>\n",
              "      <td id=\"T_f7d3b_row0_col6\" class=\"data row0 col6\" >-0.02</td>\n",
              "    </tr>\n",
              "    <tr>\n",
              "      <th id=\"T_f7d3b_level0_row1\" class=\"row_heading level0 row1\" >Pendapatan Orang Tua</th>\n",
              "      <td id=\"T_f7d3b_row1_col0\" class=\"data row1 col0\" >0.07</td>\n",
              "      <td id=\"T_f7d3b_row1_col1\" class=\"data row1 col1\" >1.00</td>\n",
              "      <td id=\"T_f7d3b_row1_col2\" class=\"data row1 col2\" >0.53</td>\n",
              "      <td id=\"T_f7d3b_row1_col3\" class=\"data row1 col3\" >0.26</td>\n",
              "      <td id=\"T_f7d3b_row1_col4\" class=\"data row1 col4\" >0.06</td>\n",
              "      <td id=\"T_f7d3b_row1_col5\" class=\"data row1 col5\" >0.05</td>\n",
              "      <td id=\"T_f7d3b_row1_col6\" class=\"data row1 col6\" >-0.14</td>\n",
              "    </tr>\n",
              "    <tr>\n",
              "      <th id=\"T_f7d3b_level0_row2\" class=\"row_heading level0 row2\" >Range Pengeluaran per Bulan</th>\n",
              "      <td id=\"T_f7d3b_row2_col0\" class=\"data row2 col0\" >0.01</td>\n",
              "      <td id=\"T_f7d3b_row2_col1\" class=\"data row2 col1\" >0.53</td>\n",
              "      <td id=\"T_f7d3b_row2_col2\" class=\"data row2 col2\" >1.00</td>\n",
              "      <td id=\"T_f7d3b_row2_col3\" class=\"data row2 col3\" >0.11</td>\n",
              "      <td id=\"T_f7d3b_row2_col4\" class=\"data row2 col4\" >0.15</td>\n",
              "      <td id=\"T_f7d3b_row2_col5\" class=\"data row2 col5\" >-0.04</td>\n",
              "      <td id=\"T_f7d3b_row2_col6\" class=\"data row2 col6\" >-0.11</td>\n",
              "    </tr>\n",
              "    <tr>\n",
              "      <th id=\"T_f7d3b_level0_row3\" class=\"row_heading level0 row3\" >Jumlah Kendaraan Bermotor yang Dimiliki</th>\n",
              "      <td id=\"T_f7d3b_row3_col0\" class=\"data row3 col0\" >0.14</td>\n",
              "      <td id=\"T_f7d3b_row3_col1\" class=\"data row3 col1\" >0.26</td>\n",
              "      <td id=\"T_f7d3b_row3_col2\" class=\"data row3 col2\" >0.11</td>\n",
              "      <td id=\"T_f7d3b_row3_col3\" class=\"data row3 col3\" >1.00</td>\n",
              "      <td id=\"T_f7d3b_row3_col4\" class=\"data row3 col4\" >0.10</td>\n",
              "      <td id=\"T_f7d3b_row3_col5\" class=\"data row3 col5\" >0.14</td>\n",
              "      <td id=\"T_f7d3b_row3_col6\" class=\"data row3 col6\" >0.02</td>\n",
              "    </tr>\n",
              "    <tr>\n",
              "      <th id=\"T_f7d3b_level0_row4\" class=\"row_heading level0 row4\" >Jumlah Anggota Keluarga</th>\n",
              "      <td id=\"T_f7d3b_row4_col0\" class=\"data row4 col0\" >0.05</td>\n",
              "      <td id=\"T_f7d3b_row4_col1\" class=\"data row4 col1\" >0.06</td>\n",
              "      <td id=\"T_f7d3b_row4_col2\" class=\"data row4 col2\" >0.15</td>\n",
              "      <td id=\"T_f7d3b_row4_col3\" class=\"data row4 col3\" >0.10</td>\n",
              "      <td id=\"T_f7d3b_row4_col4\" class=\"data row4 col4\" >1.00</td>\n",
              "      <td id=\"T_f7d3b_row4_col5\" class=\"data row4 col5\" >-0.04</td>\n",
              "      <td id=\"T_f7d3b_row4_col6\" class=\"data row4 col6\" >-0.07</td>\n",
              "    </tr>\n",
              "    <tr>\n",
              "      <th id=\"T_f7d3b_level0_row5\" class=\"row_heading level0 row5\" >IPK yang diperoleh hingga saat ini</th>\n",
              "      <td id=\"T_f7d3b_row5_col0\" class=\"data row5 col0\" >0.02</td>\n",
              "      <td id=\"T_f7d3b_row5_col1\" class=\"data row5 col1\" >0.05</td>\n",
              "      <td id=\"T_f7d3b_row5_col2\" class=\"data row5 col2\" >-0.04</td>\n",
              "      <td id=\"T_f7d3b_row5_col3\" class=\"data row5 col3\" >0.14</td>\n",
              "      <td id=\"T_f7d3b_row5_col4\" class=\"data row5 col4\" >-0.04</td>\n",
              "      <td id=\"T_f7d3b_row5_col5\" class=\"data row5 col5\" >1.00</td>\n",
              "      <td id=\"T_f7d3b_row5_col6\" class=\"data row5 col6\" >0.09</td>\n",
              "    </tr>\n",
              "    <tr>\n",
              "      <th id=\"T_f7d3b_level0_row6\" class=\"row_heading level0 row6\" >Jumlah prestasi </th>\n",
              "      <td id=\"T_f7d3b_row6_col0\" class=\"data row6 col0\" >-0.02</td>\n",
              "      <td id=\"T_f7d3b_row6_col1\" class=\"data row6 col1\" >-0.14</td>\n",
              "      <td id=\"T_f7d3b_row6_col2\" class=\"data row6 col2\" >-0.11</td>\n",
              "      <td id=\"T_f7d3b_row6_col3\" class=\"data row6 col3\" >0.02</td>\n",
              "      <td id=\"T_f7d3b_row6_col4\" class=\"data row6 col4\" >-0.07</td>\n",
              "      <td id=\"T_f7d3b_row6_col5\" class=\"data row6 col5\" >0.09</td>\n",
              "      <td id=\"T_f7d3b_row6_col6\" class=\"data row6 col6\" >1.00</td>\n",
              "    </tr>\n",
              "  </tbody>\n",
              "</table>\n"
            ]
          },
          "metadata": {},
          "execution_count": 24
        }
      ]
    },
    {
      "cell_type": "markdown",
      "source": [
        "Selanjutnya kita buat model regresi linearnya\n"
      ],
      "metadata": {
        "id": "mOelJQ5b31xs"
      }
    },
    {
      "cell_type": "code",
      "source": [
        "from scipy import stats\n",
        "from statsmodels.formula.api import ols\n",
        "import statsmodels.api as sm\n",
        "\n",
        "Regresi = sm.OLS(Data2['IPK yang diperoleh hingga saat ini'], sm.add_constant(Data2[['Pendapatan Orang Tua', 'Range Pengeluaran per Bulan', 'Jumlah Kendaraan Bermotor yang Dimiliki', 'Jumlah prestasi ']])).fit()\n",
        "print(Regresi.summary())"
      ],
      "metadata": {
        "colab": {
          "base_uri": "https://localhost:8080/"
        },
        "id": "5kFqsjTf34pi",
        "outputId": "b4e9f6ba-4989-4898-d6a4-15e3bdba107f"
      },
      "execution_count": null,
      "outputs": [
        {
          "output_type": "stream",
          "name": "stderr",
          "text": [
            "/usr/local/lib/python3.7/dist-packages/statsmodels/tools/_testing.py:19: FutureWarning: pandas.util.testing is deprecated. Use the functions in the public API at pandas.testing instead.\n",
            "  import pandas.util.testing as tm\n"
          ]
        },
        {
          "output_type": "stream",
          "name": "stdout",
          "text": [
            "                                    OLS Regression Results                                    \n",
            "==============================================================================================\n",
            "Dep. Variable:     IPK yang diperoleh hingga saat ini   R-squared:                       0.032\n",
            "Model:                                            OLS   Adj. R-squared:                 -0.004\n",
            "Method:                                 Least Squares   F-statistic:                    0.8782\n",
            "Date:                                Thu, 28 Apr 2022   Prob (F-statistic):              0.480\n",
            "Time:                                        10:46:55   Log-Likelihood:                -29.124\n",
            "No. Observations:                                 111   AIC:                             68.25\n",
            "Df Residuals:                                     106   BIC:                             81.80\n",
            "Df Model:                                           4                                         \n",
            "Covariance Type:                            nonrobust                                         \n",
            "===========================================================================================================\n",
            "                                              coef    std err          t      P>|t|      [0.025      0.975]\n",
            "-----------------------------------------------------------------------------------------------------------\n",
            "const                                       3.2046      0.088     36.497      0.000       3.030       3.379\n",
            "Pendapatan Orang Tua                     8.338e-09   1.25e-08      0.669      0.505   -1.64e-08    3.31e-08\n",
            "Range Pengeluaran per Bulan             -1.188e-08    1.5e-08     -0.790      0.432   -4.17e-08     1.8e-08\n",
            "Jumlah Kendaraan Bermotor yang Dimiliki     0.0356      0.029      1.249      0.214      -0.021       0.092\n",
            "Jumlah prestasi                             0.0360      0.041      0.887      0.377      -0.045       0.117\n",
            "==============================================================================\n",
            "Omnibus:                        9.938   Durbin-Watson:                   1.692\n",
            "Prob(Omnibus):                  0.007   Jarque-Bera (JB):               10.638\n",
            "Skew:                          -0.730   Prob(JB):                      0.00490\n",
            "Kurtosis:                       2.590   Cond. No.                     2.24e+07\n",
            "==============================================================================\n",
            "\n",
            "Warnings:\n",
            "[1] Standard Errors assume that the covariance matrix of the errors is correctly specified.\n",
            "[2] The condition number is large, 2.24e+07. This might indicate that there are\n",
            "strong multicollinearity or other numerical problems.\n"
          ]
        },
        {
          "output_type": "stream",
          "name": "stderr",
          "text": [
            "/usr/local/lib/python3.7/dist-packages/statsmodels/tsa/tsatools.py:117: FutureWarning: In a future version of pandas all arguments of concat except for the argument 'objs' will be keyword-only\n",
            "  x = pd.concat(x[::order], 1)\n"
          ]
        }
      ]
    },
    {
      "cell_type": "markdown",
      "source": [
        "Dapat dilihat bahwa kita mempunyai persamaan regresi linear yaitu :\n",
        "\n",
        "*   **Y = 3.0520 - 1.674e-08(X1)- 2.925e-08(X2) - 0.1617(X3)**\n",
        "\n"
      ],
      "metadata": {
        "id": "ZvOPu17bIUTQ"
      }
    },
    {
      "cell_type": "markdown",
      "source": [
        "Karena model masih kurang bagus, maka data kita pecah dalam "
      ],
      "metadata": {
        "id": "oVv58inQ2x7v"
      }
    },
    {
      "cell_type": "code",
      "source": [
        "from scipy import stats\n",
        "from statsmodels.formula.api import ols\n",
        "import statsmodels.api as sm\n",
        "\n",
        "Regresi2 = sm.OLS(Data3['Jumlah prestasi '], sm.add_constant(Data3[['Pendapatan Orang Tua', 'Range Pengeluaran per Bulan', 'Jumlah Kendaraan Bermotor yang Dimiliki']])).fit()\n",
        "print(Regresi2.summary())"
      ],
      "metadata": {
        "colab": {
          "base_uri": "https://localhost:8080/"
        },
        "id": "SvoF--BeQ5y5",
        "outputId": "dfb011c6-0fc1-41b2-9be8-13d3efe17160"
      },
      "execution_count": null,
      "outputs": [
        {
          "output_type": "stream",
          "name": "stdout",
          "text": [
            "                            OLS Regression Results                            \n",
            "==============================================================================\n",
            "Dep. Variable:       Jumlah prestasi    R-squared:                       0.007\n",
            "Model:                            OLS   Adj. R-squared:                 -0.037\n",
            "Method:                 Least Squares   F-statistic:                    0.1526\n",
            "Date:                Thu, 28 Apr 2022   Prob (F-statistic):              0.928\n",
            "Time:                        08:23:13   Log-Likelihood:                -58.502\n",
            "No. Observations:                  73   AIC:                             125.0\n",
            "Df Residuals:                      69   BIC:                             134.2\n",
            "Df Model:                           3                                         \n",
            "Covariance Type:            nonrobust                                         \n",
            "===========================================================================================================\n",
            "                                              coef    std err          t      P>|t|      [0.025      0.975]\n",
            "-----------------------------------------------------------------------------------------------------------\n",
            "const                                       0.4316      0.269      1.602      0.114      -0.106       0.969\n",
            "Pendapatan Orang Tua                    -2.097e-09   2.54e-08     -0.082      0.935   -5.28e-08    4.86e-08\n",
            "Range Pengeluaran per Bulan               9.79e-09   3.97e-08      0.247      0.806   -6.94e-08    8.89e-08\n",
            "Jumlah Kendaraan Bermotor yang Dimiliki    -0.0925      0.146     -0.632      0.529      -0.385       0.199\n",
            "==============================================================================\n",
            "Omnibus:                       28.706   Durbin-Watson:                   1.469\n",
            "Prob(Omnibus):                  0.000   Jarque-Bera (JB):               43.972\n",
            "Skew:                           1.647   Prob(JB):                     2.83e-10\n",
            "Kurtosis:                       4.898   Cond. No.                     3.03e+07\n",
            "==============================================================================\n",
            "\n",
            "Warnings:\n",
            "[1] Standard Errors assume that the covariance matrix of the errors is correctly specified.\n",
            "[2] The condition number is large, 3.03e+07. This might indicate that there are\n",
            "strong multicollinearity or other numerical problems.\n"
          ]
        },
        {
          "output_type": "stream",
          "name": "stderr",
          "text": [
            "/usr/local/lib/python3.7/dist-packages/statsmodels/tsa/tsatools.py:117: FutureWarning: In a future version of pandas all arguments of concat except for the argument 'objs' will be keyword-only\n",
            "  x = pd.concat(x[::order], 1)\n"
          ]
        }
      ]
    },
    {
      "cell_type": "markdown",
      "source": [
        "# **Visualisai Data**"
      ],
      "metadata": {
        "id": "CjH0CpKJB_fq"
      }
    },
    {
      "cell_type": "code",
      "source": [
        "def show_values(axs, orient=\"v\", space=.01):\n",
        "    def _single(ax):\n",
        "        if orient == \"v\":\n",
        "            for p in ax.patches:\n",
        "                _x = p.get_x() + p.get_width() / 2\n",
        "                _y = p.get_y() + p.get_height() + (p.get_height()*0.01)\n",
        "                value = '{:.2f}'.format(p.get_height())\n",
        "                ax.text(_x, _y, value, ha=\"center\") \n",
        "        elif orient == \"h\":\n",
        "            for p in ax.patches:\n",
        "                _x = p.get_x() + p.get_width() + float(space)\n",
        "                _y = p.get_y() + p.get_height() - (p.get_height()*0.5)\n",
        "                value = '{:.2f}'.format(p.get_width())\n",
        "                ax.text(_x, _y, value, ha=\"left\")\n",
        "\n",
        "    if isinstance(axs, np.ndarray):\n",
        "        for idx, ax in np.ndenumerate(axs):\n",
        "            _single(ax)\n",
        "    else:\n",
        "        _single(axs)"
      ],
      "metadata": {
        "id": "-Q1gUpQ7sOpM"
      },
      "execution_count": null,
      "outputs": []
    },
    {
      "cell_type": "code",
      "source": [
        "#1. Kita lihat telebih dahului jumlah orang dari masing masing IPK\n",
        "ax = sns.countplot(x = 'IPK yang diperoleh hingga saat ini', data = Data3)\n",
        "show_values(ax)"
      ],
      "metadata": {
        "colab": {
          "base_uri": "https://localhost:8080/",
          "height": 279
        },
        "id": "K8aFPhDZCDyL",
        "outputId": "ab570bc1-08b1-4935-9d5f-c69a95cd7b4c"
      },
      "execution_count": null,
      "outputs": [
        {
          "output_type": "display_data",
          "data": {
            "text/plain": [
              "<Figure size 432x288 with 1 Axes>"
            ],
            "image/png": "[encoded data removed]"
          },
          "metadata": {
            "needs_background": "light"
          }
        }
      ]
    },
    {
      "cell_type": "markdown",
      "source": [
        "Dapat dilihat bahwa jumlah mahasiswa yang memiliki nilai IPK > 3.5 berjumlah lebih dari 30 orang"
      ],
      "metadata": {
        "id": "sXzGt12UCmqa"
      }
    },
    {
      "cell_type": "code",
      "source": [
        "#2. Jumlah penerima beasiswa bedasarkan gender\n",
        "ax = sns.countplot(x = 'Apakah Anda penerima beasiswa ?', hue = 'Jenis Kelamin', data = Data3)\n",
        "show_values(ax)"
      ],
      "metadata": {
        "colab": {
          "base_uri": "https://localhost:8080/",
          "height": 279
        },
        "id": "g90gMFJKCa4B",
        "outputId": "2b7cab8e-11ed-4fc4-8d3f-4737edb3ea4c"
      },
      "execution_count": null,
      "outputs": [
        {
          "output_type": "display_data",
          "data": {
            "text/plain": [
              "<Figure size 432x288 with 1 Axes>"
            ],
            "image/png": "[encoded data removed]"
          },
          "metadata": {
            "needs_background": "light"
          }
        }
      ]
    },
    {
      "cell_type": "markdown",
      "source": [
        "Dapat kita lihat bahwa hanya sedikit dari laki laki dan perempuan yang merupakan penerima beasiswa"
      ],
      "metadata": {
        "id": "wNzUfm1sCnUB"
      }
    },
    {
      "cell_type": "code",
      "source": [
        "#3. Kita lihat apakah Jenis kelamin memepengaruhi IPK yang diperoleh\n",
        "ax = sns.barplot(x=\"Jenis Kelamin\", y=\"IPK yang diperoleh hingga saat ini\", ci=None, data=Data2)\n",
        "show_values(ax)"
      ],
      "metadata": {
        "colab": {
          "base_uri": "https://localhost:8080/",
          "height": 282
        },
        "id": "LFcGp6ZN3eYV",
        "outputId": "4ae36738-7a63-4187-db17-901bb60f8d70"
      },
      "execution_count": null,
      "outputs": [
        {
          "output_type": "display_data",
          "data": {
            "text/plain": [
              "<Figure size 432x288 with 1 Axes>"
            ],
            "image/png": "[encoded data removed]"
          },
          "metadata": {
            "needs_background": "light"
          }
        }
      ]
    },
    {
      "cell_type": "code",
      "source": [
        "#4. Kita lihat apakah Tingkat kosentrasi mahasiswa belajar di rumah berpengaruh terhadap Jumlah Anggota Keluarga bedasarkan jenis kelamin\n",
        "plt.figure(figsize=(10,10))\n",
        "ax = sns.barplot(x=\"Tingkat kosentrasi mahasiswa belajar di rumah\", y=\"Jumlah Anggota Keluarga\", hue=\"Jenis Kelamin\", ci=None, data=Data3)\n",
        "show_values(ax)"
      ],
      "metadata": {
        "colab": {
          "base_uri": "https://localhost:8080/",
          "height": 606
        },
        "id": "dpfTE-mUDLeZ",
        "outputId": "2b44294e-857e-483f-f93b-3826a90360d5"
      },
      "execution_count": null,
      "outputs": [
        {
          "output_type": "display_data",
          "data": {
            "text/plain": [
              "<Figure size 720x720 with 1 Axes>"
            ],
            "image/png": "[encoded data removed]"
          },
          "metadata": {
            "needs_background": "light"
          }
        }
      ]
    },
    {
      "cell_type": "markdown",
      "source": [
        "Dapat dilihat bahwa lebih banyak laki laki dan perempuan yang tidak fokus terhadap pelajaran memiliki jumlah keluarga yang lebih dari 4, sedangkan untuk laki laki dan perempuan yang fokus terhadap pelajaran memiliki jumlah keluarga sama dengan 4 atau kurang dari 4"
      ],
      "metadata": {
        "id": "3ufnB8OUDUax"
      }
    },
    {
      "cell_type": "code",
      "source": [
        "#5. Kita lihat apakah tingklat konsentrasi belajar dirumah berpengaruh terhadap IPK\n",
        "plt.figure(figsize=(10,10))\n",
        "ax = sns.barplot(x=\"Tingkat kosentrasi mahasiswa belajar di rumah\", y=\"IPK yang diperoleh hingga saat ini\", ci=None, data=Data3)\n",
        "show_values(ax)"
      ],
      "metadata": {
        "colab": {
          "base_uri": "https://localhost:8080/",
          "height": 609
        },
        "id": "qWp1TmwtDU65",
        "outputId": "6e84906f-1c3f-4990-fba3-3906a846681e"
      },
      "execution_count": null,
      "outputs": [
        {
          "output_type": "display_data",
          "data": {
            "text/plain": [
              "<Figure size 720x720 with 1 Axes>"
            ],
            "image/png": "[encoded data removed]"
          },
          "metadata": {
            "needs_background": "light"
          }
        }
      ]
    },
    {
      "cell_type": "markdown",
      "source": [
        "Terdapat kejadian yang unik dari hasil barplot diatas, dapat dilihat bahwa  mahasiswa yang **Fokus** dalam pelajaran memiliki IPK yang lebih tinggi dari kondisi yang lain, sedangkan mahasiswa yang **Tidak fokus** terhadap pelajaran memiliki IPK yang lebih tinggi dari mahasiswa yang **Keduanya**. Dapat kita indikasikan bahwa adanya kecurangan dalam proses pembelajaran dari mahasiswa yang **Tidak fokus**"
      ],
      "metadata": {
        "id": "Z03gLUdLEurK"
      }
    },
    {
      "cell_type": "code",
      "source": [
        "#6. Kita lihat apakah penerima beasiswa berpengaruh terhadap IPK\n",
        "#plt.figure(figsize=(15,15))\n",
        "ax = sns.barplot(x=\"Apakah Anda penerima beasiswa ?\", y=\"IPK yang diperoleh hingga saat ini\", ci=None, data=Data3)\n",
        "show_values(ax)"
      ],
      "metadata": {
        "colab": {
          "base_uri": "https://localhost:8080/",
          "height": 279
        },
        "id": "4NTfN9tdDoOJ",
        "outputId": "f8e2ea22-6c25-4e25-bd9b-92cad68d8cb4"
      },
      "execution_count": null,
      "outputs": [
        {
          "output_type": "display_data",
          "data": {
            "text/plain": [
              "<Figure size 432x288 with 1 Axes>"
            ],
            "image/png": "[encoded data removed]"
          },
          "metadata": {
            "needs_background": "light"
          }
        }
      ]
    },
    {
      "cell_type": "markdown",
      "source": [
        "Dapat dilihat bahwa mahasiswa yang tidak menerima beasiswa memiliki IPK yang lebih dari 3.0"
      ],
      "metadata": {
        "id": "ZEzoa9J3E1Pp"
      }
    }
  ]
}